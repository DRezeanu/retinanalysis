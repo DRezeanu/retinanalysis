{
 "cells": [
  {
   "cell_type": "markdown",
   "id": "40e94426",
   "metadata": {},
   "source": [
    "# WN stim regen demo\n",
    "Verifying that stim regen gives correct STA\n",
    "VR 2025-07-08"
   ]
  },
  {
   "cell_type": "code",
   "execution_count": null,
   "id": "48ec93c1",
   "metadata": {},
   "outputs": [],
   "source": [
    "import retinanalysis as ra\n",
    "import numpy as np\n",
    "import matplotlib.pyplot as plt\n",
    "import tqdm.auto as tqdm\n",
    "\n",
    "def compute_sta(cell_idx, s1: ra.StimBlock, r1: ra.ResponseBlock, n_depth = 15):\n",
    "    lags = np.arange(0,n_depth)\n",
    "\n",
    "    sta = np.zeros((len(lags), s1.stim_data[0].shape[1], s1.stim_data[0].shape[2]))\n",
    "    pre_bins = r1.bin_rate * s1.df_epochs.at[0, 'epoch_parameters']['preTime'] * 1e-3\n",
    "    pre_bins = np.round(pre_bins).astype(int)\n",
    "    for e_idx in range(len(s1.stim_data)):\n",
    "        for i, lag in tqdm.tqdm(list(enumerate(lags)), desc=\"STA Depth\"):\n",
    "            frames = s1.stim_data[e_idx, :,:,:, 0]\n",
    "            bs = r1.df_spike_times.at[cell_idx, 'binned_spikes'][e_idx, pre_bins:pre_bins + len(frames)]\n",
    "            if lag > 0:\n",
    "                bs = bs[lag:]\n",
    "                frames = frames[:-lag]\n",
    "            # Keep only timepoints with a spike\n",
    "            mask = np.where(bs > 0)[0]\n",
    "            if len(mask) == 0:\n",
    "                print(f'No spikes found for cell idx {cell_idx} in epoch {e_idx}')\n",
    "                continue\n",
    "            bs = bs[mask]\n",
    "            frames = frames[mask]\n",
    "            frames = np.moveaxis(frames, 0, -1)\n",
    "            sta[i] += np.matmul(frames, bs)\n",
    "    return sta"
   ]
  },
  {
   "cell_type": "code",
   "execution_count": null,
   "id": "adb0cf7f",
   "metadata": {},
   "outputs": [],
   "source": [
    "df = ra.get_datasets_from_protocol_names('protocols.spatialnoise')\n",
    "df = df[df.exp_name=='20250514C'].reset_index()\n",
    "display(df)\n",
    "\n",
    "idx = 0\n",
    "exp_name = df.at[idx, 'exp_name']\n",
    "datafile_name = df.at[idx, 'datafile_name']\n",
    "pp = ra.create_mea_pipeline(exp_name, datafile_name)"
   ]
  },
  {
   "cell_type": "markdown",
   "id": "5f3e1f51",
   "metadata": {},
   "source": [
    "Let's bin spike times."
   ]
  },
  {
   "cell_type": "code",
   "execution_count": null,
   "id": "664241e2",
   "metadata": {},
   "outputs": [],
   "source": [
    "pp.response_block.bin_spike_times_by_frames()"
   ]
  },
  {
   "cell_type": "markdown",
   "id": "dbcf1358",
   "metadata": {},
   "source": [
    "Let's regenerate WN frames for the first epoch"
   ]
  },
  {
   "cell_type": "code",
   "execution_count": null,
   "id": "ada407bc",
   "metadata": {},
   "outputs": [],
   "source": [
    "pp.stim_block.regenerate_stimulus(ls_epochs=[0])"
   ]
  },
  {
   "cell_type": "markdown",
   "id": "0c8ae234",
   "metadata": {},
   "source": [
    "Let's use the compute_sta function defined up top to calculate and plot the STA for cell 2"
   ]
  },
  {
   "cell_type": "code",
   "execution_count": null,
   "id": "63512721",
   "metadata": {},
   "outputs": [],
   "source": [
    "cell_idx = 2\n",
    "sta = compute_sta(cell_idx, pp.stim_block, pp.response_block)"
   ]
  },
  {
   "cell_type": "code",
   "execution_count": null,
   "id": "60a90cb3",
   "metadata": {},
   "outputs": [],
   "source": [
    "# Get Red channel spatial map, and peak pixel\n",
    "cell_id = pp.response_block.cell_ids[cell_idx]\n",
    "\n",
    "sm = pp.analysis_chunk.d_spatial_maps[cell_id][:,:,0]\n",
    "peak = np.unravel_index(np.argmax(sm), sm.shape)\n",
    "\n",
    "plt.plot(sta[:,peak[0], peak[1]])"
   ]
  },
  {
   "cell_type": "code",
   "execution_count": null,
   "id": "10606f46",
   "metadata": {},
   "outputs": [],
   "source": [
    "plt.figure(figsize=(10, 5))\n",
    "plt.subplot(121)\n",
    "plt.imshow(sta[3,:,:], cmap='gray')\n",
    "plt.subplot(122)\n",
    "plt.imshow(sm, cmap='gray')"
   ]
  }
 ],
 "metadata": {
  "kernelspec": {
   "display_name": "retinanalysis",
   "language": "python",
   "name": "python3"
  },
  "language_info": {
   "codemirror_mode": {
    "name": "ipython",
    "version": 3
   },
   "file_extension": ".py",
   "mimetype": "text/x-python",
   "name": "python",
   "nbconvert_exporter": "python",
   "pygments_lexer": "ipython3",
   "version": "3.11.8"
  }
 },
 "nbformat": 4,
 "nbformat_minor": 5
}
