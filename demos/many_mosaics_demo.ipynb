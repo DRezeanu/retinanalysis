{
 "cells": [
  {
   "cell_type": "code",
   "execution_count": null,
   "id": "47f1e463",
   "metadata": {},
   "outputs": [],
   "source": [
    "import retinanalysis as ra\n",
    "import pandas as pd\n",
    "import matplotlib.pyplot as plt\n",
    "\n",
    "# Run below if need to reload cell type files\n",
    "# ra.database_pop.reload_celltypefiles()\n",
    "\n",
    "# Run below if need to load in new experiments\n",
    "# ra.database_utils.populate_database()"
   ]
  },
  {
   "cell_type": "markdown",
   "id": "56b94bc3",
   "metadata": {},
   "source": [
    "Querying datasets from protocol name search"
   ]
  },
  {
   "cell_type": "code",
   "execution_count": null,
   "id": "7bc0bddb",
   "metadata": {},
   "outputs": [],
   "source": [
    "df = ra.get_datasets_from_protocol_names('dots')\n",
    "df.head()"
   ]
  },
  {
   "cell_type": "markdown",
   "id": "7edc19ba",
   "metadata": {},
   "source": [
    "Plotting mosaics for any datasets with typing available with metadata in `df_typed`, and displaying experiments without any typing in `df_not_typed`"
   ]
  },
  {
   "cell_type": "code",
   "execution_count": null,
   "id": "50fa85f5",
   "metadata": {},
   "outputs": [],
   "source": [
    "ls_cell_types = ['OffP', 'OffM', 'OnP', 'OnM']\n",
    "\n",
    "# Plot top 5 datasets according to the highest number of cells\n",
    "# of interest (sum of # cells of given types)\n",
    "df_typed, df_not_typed = ra.plot_mosaics_for_all_datasets(df, ls_cell_types, n_top=5)"
   ]
  },
  {
   "cell_type": "markdown",
   "id": "ef5f92fc",
   "metadata": {},
   "source": [
    "Note that if the typing file is not for the nearest noise chunk, the plot will print the nearest chunk which may be better to use as the associated analysis chunk."
   ]
  }
 ],
 "metadata": {
  "kernelspec": {
   "display_name": "retinanalysis",
   "language": "python",
   "name": "python3"
  },
  "language_info": {
   "codemirror_mode": {
    "name": "ipython",
    "version": 3
   },
   "file_extension": ".py",
   "mimetype": "text/x-python",
   "name": "python",
   "nbconvert_exporter": "python",
   "pygments_lexer": "ipython3",
   "version": "3.11.8"
  }
 },
 "nbformat": 4,
 "nbformat_minor": 5
}
