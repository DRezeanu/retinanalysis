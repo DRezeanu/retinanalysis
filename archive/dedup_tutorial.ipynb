{
 "cells": [
  {
   "cell_type": "code",
   "execution_count": null,
   "metadata": {},
   "outputs": [],
   "source": [
    "import importlib\n",
    "import retinanalysis as ra\n",
    "from retinanalysis import dedup as dd\n",
    "importlib.reload(dd)\n",
    "importlib.reload(ra)\n",
    "import pandas as pd\n",
    "import numpy as np\n",
    "ra.settings.mea_config\n",
    "import matplotlib.pyplot as plt\n",
    "from matplotlib.patches import Ellipse\n",
    "import os"
   ]
  },
  {
   "cell_type": "code",
   "execution_count": null,
   "metadata": {},
   "outputs": [],
   "source": [
    "#start with a noise file\n",
    "df_1 = ra.get_datasets_from_protocol_names('.SpatialNoise')\n",
    "df_1[df_1['exp_name'] == '20250514C']"
   ]
  },
  {
   "cell_type": "code",
   "execution_count": null,
   "metadata": {},
   "outputs": [],
   "source": [
    "#set up our stimulus block and analysis chunk\n",
    "sb = ra.MEAStimBlock(df_1.at[177, 'exp_name'], df_1.at[177, 'datafile_name'])\n",
    "ac = ra.AnalysisChunk(df_1.at[177, 'exp_name'], sb.nearest_noise_chunk)"
   ]
  },
  {
   "cell_type": "code",
   "execution_count": null,
   "metadata": {},
   "outputs": [],
   "source": [
    "#load in kilosort files, and add them in together so that we can analyze \n",
    "#TODO: make this a function\n",
    "# amps = np.load('/Volumes/data/data/sorted/20250514C/chunk1/kilosort2.5/amplitudes.npy')\n",
    "amps = np.load(os.path.join(ra.NAS_DATA_DIR, '20250514C', 'chunk1', 'kilosort2.5', 'amplitudes.npy'))\n",
    "# templates = np.load('/Volumes/data/data/sorted/20250514C/chunk1/kilosort2.5/spike_templates.npy')\n",
    "templates = np.load(os.path.join(ra.NAS_DATA_DIR, '20250514C', 'chunk1', 'kilosort2.5', 'spike_templates.npy'))\n",
    "\n",
    "templates_vision = templates + 1\n",
    "amplitudes = np.vstack((np.squeeze(amps), np.squeeze(templates_vision)))"
   ]
  },
  {
   "cell_type": "code",
   "execution_count": null,
   "metadata": {},
   "outputs": [],
   "source": [
    "#plot ei autocorrelation, and spatial map autocorr if available\n",
    "dd_block = dd.DedupBlock(df_1.at[177, 'exp_name'], df_1.at[177, 'datafile_name'], chunk_name = 'chunk1', is_noise = True,\n",
    "                         ei_method='full', ei_threshold=0.8, sm_threshold=0.8)\n",
    "dd_block.plot_correlations();"
   ]
  },
  {
   "cell_type": "code",
   "execution_count": null,
   "metadata": {},
   "outputs": [],
   "source": [
    "#if available, plot all RFs and the RFs for the problem clusters\n",
    "dd_block.plotRFs_dedup();"
   ]
  },
  {
   "cell_type": "code",
   "execution_count": null,
   "metadata": {},
   "outputs": [],
   "source": [
    "#generate dataframe for all pairwise metrics for above-threshold clusters (in either ei or sm category)\n",
    "#extended_pairs is a set of tuples of transitively related cells in the above-threshold correlation pairs\n",
    "summary_stats = dd_block.get_summary_stats(dd_block.dedup_sets['sm_only_pairs'])\n",
    "summary_stats"
   ]
  },
  {
   "cell_type": "code",
   "execution_count": null,
   "metadata": {},
   "outputs": [],
   "source": [
    "#if we wanted to, we could just plot everything! (if detailed=True, plots timecourse of top electrodes)\n",
    "#TODO: do we want this to be the default behavior? probably not - pull out best pairs to visualize?\n",
    "#TODO: check marginal histograms for gaussian violations? to check if bimodal / needs splitting?\n",
    "extended_pairs = dd.generate_extended_pairings(dd_block.dedup_sets['sm_only_pairs'])\n",
    "for pair in extended_pairs:\n",
    "    dd_block.visualize_groups(pair);\n",
    "    dd_block.plot_amplitude_histograms(pair);"
   ]
  }
 ],
 "metadata": {
  "kernelspec": {
   "display_name": "retinanalysis",
   "language": "python",
   "name": "python3"
  },
  "language_info": {
   "codemirror_mode": {
    "name": "ipython",
    "version": 3
   },
   "file_extension": ".py",
   "mimetype": "text/x-python",
   "name": "python",
   "nbconvert_exporter": "python",
   "pygments_lexer": "ipython3",
   "version": "3.11.8"
  }
 },
 "nbformat": 4,
 "nbformat_minor": 2
}
