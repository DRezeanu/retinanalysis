{
 "cells": [
  {
   "cell_type": "code",
   "execution_count": null,
   "metadata": {},
   "outputs": [],
   "source": [
    "import retinanalysis as ra\n",
    "import retinanalysis.config.schema as schema\n",
    "import retinanalysis.classes.dedup as dd\n",
    "import importlib\n",
    "importlib.reload(dd)\n",
    "import numpy as np\n",
    "import matplotlib.pyplot as plt"
   ]
  },
  {
   "cell_type": "markdown",
   "metadata": {},
   "source": [
    "### First, let's pull out a dataframe showing noise runs from a specific experiment day. \n",
    "### We can choose this day by querying for specific protocols with specific parameters. "
   ]
  },
  {
   "cell_type": "code",
   "execution_count": null,
   "metadata": {},
   "outputs": [],
   "source": [
    "df = ra.get_datasets_from_protocol_names('.SpatialNoise')\n",
    "df_1 = df[df['exp_name'] == '20250429C']\n",
    "display(df_1)"
   ]
  },
  {
   "cell_type": "markdown",
   "metadata": {},
   "source": [
    "### Let's look at the first datafile from the first chunk."
   ]
  },
  {
   "cell_type": "code",
   "execution_count": null,
   "metadata": {},
   "outputs": [],
   "source": [
    "sb = ra.StimBlock(df_1.at[172, 'exp_name'], df_1.at[172, 'block_id'])\n",
    "ac = ra.AnalysisChunk(df_1.at[172, 'exp_name'], df_1.at[172, 'chunk_name'])"
   ]
  },
  {
   "cell_type": "markdown",
   "metadata": {},
   "source": [
    "#### What ei correlation method should we use? We can compare the results before instantiating our deduplication object."
   ]
  },
  {
   "cell_type": "code",
   "execution_count": null,
   "metadata": {},
   "outputs": [],
   "source": [
    "axs, ei_full_pairs, ei_space_pairs, ei_power_pairs = dd.compare_ei_methods(ac, ei_threshold=0.9)"
   ]
  },
  {
   "cell_type": "markdown",
   "metadata": {},
   "source": [
    "#### Space seems like a middle ground. Let's use that for now."
   ]
  },
  {
   "cell_type": "code",
   "execution_count": null,
   "metadata": {},
   "outputs": [],
   "source": [
    "db = dd.DedupBlock(exp_name=df_1.at[172, 'exp_name'], chunk_name=df_1.at[172, 'chunk_name'], ss_version='kilosort2.5', \\\n",
    "                   pkl_file=None, is_noise=True, ei_method='space', ei_threshold=0.9, sm_threshold=0.9)\n",
    "db"
   ]
  },
  {
   "cell_type": "markdown",
   "metadata": {},
   "source": [
    "### Now we can plot the autocorrelation matrix and histograms. Cluster pairs with correlations above threshold are potentially merger targets."
   ]
  },
  {
   "cell_type": "code",
   "execution_count": null,
   "metadata": {},
   "outputs": [],
   "source": [
    "db.plot_correlations(axs=None);"
   ]
  },
  {
   "cell_type": "markdown",
   "metadata": {},
   "source": [
    "#### We can also plot our cluster RFs, and highlight those with above-threshold correlations with another cluster."
   ]
  },
  {
   "cell_type": "code",
   "execution_count": null,
   "metadata": {},
   "outputs": [],
   "source": [
    "db.plotRFs_dedup(axs=None);"
   ]
  },
  {
   "cell_type": "markdown",
   "metadata": {},
   "source": [
    "#### We have all sorts of groupings of cells that are highly correlated by ei, spatial map, or both below the hood. We can generate some tables of pairwise statistics for these various groups."
   ]
  },
  {
   "cell_type": "code",
   "execution_count": null,
   "metadata": {},
   "outputs": [],
   "source": [
    "print(db.dedup_sets.keys())"
   ]
  },
  {
   "cell_type": "code",
   "execution_count": null,
   "metadata": {},
   "outputs": [],
   "source": [
    "summary_stats_all = db.get_summary_stats(pairs=db.dedup_sets['all_pairs'])\n",
    "summary_stats_all"
   ]
  },
  {
   "cell_type": "code",
   "execution_count": null,
   "metadata": {},
   "outputs": [],
   "source": [
    "summary_stats_both = db.get_summary_stats(pairs=db.dedup_sets['both_pairs'])\n",
    "summary_stats_both"
   ]
  },
  {
   "cell_type": "code",
   "execution_count": null,
   "metadata": {},
   "outputs": [],
   "source": [
    "summary_stats_ei_space = db.get_summary_stats(pairs=db.dedup_sets['ei_only_pairs'])\n",
    "summary_stats_ei_space"
   ]
  },
  {
   "cell_type": "code",
   "execution_count": null,
   "metadata": {},
   "outputs": [],
   "source": [
    "summary_stats_sm = db.get_summary_stats(pairs=db.dedup_sets['sm_only_pairs'])\n",
    "summary_stats_sm"
   ]
  },
  {
   "cell_type": "markdown",
   "metadata": {},
   "source": [
    "####  since overlap is low between high ei and high sm pairs, let's visualize any transitively connected groups across either criterion"
   ]
  },
  {
   "cell_type": "code",
   "execution_count": null,
   "metadata": {},
   "outputs": [],
   "source": [
    "for pair in db.dedup_sets['extended_pairs_across']:\n",
    "    db.visualize_groups(pair, axs=None);\n",
    "    db.plot_amplitude_histograms(pair, axs=None);"
   ]
  },
  {
   "cell_type": "markdown",
   "metadata": {},
   "source": [
    "#### 199 and 212 look awfully like the same cell. What do their top PC projections look like (from KS)?"
   ]
  },
  {
   "cell_type": "code",
   "execution_count": null,
   "metadata": {},
   "outputs": [],
   "source": [
    "db.plot_pcs(pair=(199, 212));"
   ]
  },
  {
   "cell_type": "markdown",
   "metadata": {},
   "source": [
    "#### not always super clear though with a 2D plot. These also have some overlap, and definitely are not the same cell."
   ]
  },
  {
   "cell_type": "code",
   "execution_count": null,
   "metadata": {},
   "outputs": [],
   "source": [
    "db.plot_pcs(pair=(725, 728));"
   ]
  }
 ],
 "metadata": {
  "kernelspec": {
   "display_name": "retinanalysis",
   "language": "python",
   "name": "python3"
  },
  "language_info": {
   "codemirror_mode": {
    "name": "ipython",
    "version": 3
   },
   "file_extension": ".py",
   "mimetype": "text/x-python",
   "name": "python",
   "nbconvert_exporter": "python",
   "pygments_lexer": "ipython3",
   "version": "3.11.8"
  }
 },
 "nbformat": 4,
 "nbformat_minor": 2
}
