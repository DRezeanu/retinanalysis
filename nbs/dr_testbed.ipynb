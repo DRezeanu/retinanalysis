{
 "cells": [
  {
   "cell_type": "code",
   "execution_count": 1,
   "id": "1eee221f",
   "metadata": {},
   "outputs": [
    {
     "name": "stderr",
     "output_type": "stream",
     "text": [
      "[2025-07-14 15:19:10,458][INFO]: DataJoint 0.14.4 connected to root@127.0.0.1:3306\n"
     ]
    }
   ],
   "source": [
    "import retinanalysis as ra\n",
    "import numpy as np\n",
    "import matplotlib.pyplot as plt"
   ]
  },
  {
   "cell_type": "markdown",
   "id": "bb1c1c41",
   "metadata": {},
   "source": [
    "## Step 1: Query protocol across all experiments"
   ]
  },
  {
   "cell_type": "code",
   "execution_count": 2,
   "id": "d12b9400",
   "metadata": {},
   "outputs": [
    {
     "name": "stdout",
     "output_type": "stream",
     "text": [
      "\n",
      "Found 1 protocols matching \"movingletters\":\n",
      "['edu.washington.riekelab.protocols.MovingLetters']\n",
      "\n",
      "Found 1 protocols matching \"presentmatfiles\":\n",
      "['edu.washington.riekelab.protocols.PresentMatFiles']\n",
      "\n",
      "Found 4 experiments, 6 epoch blocks.\n",
      "\n"
     ]
    },
    {
     "data": {
      "text/html": [
       "<div>\n",
       "<style scoped>\n",
       "    .dataframe tbody tr th:only-of-type {\n",
       "        vertical-align: middle;\n",
       "    }\n",
       "\n",
       "    .dataframe tbody tr th {\n",
       "        vertical-align: top;\n",
       "    }\n",
       "\n",
       "    .dataframe thead th {\n",
       "        text-align: right;\n",
       "    }\n",
       "</style>\n",
       "<table border=\"1\" class=\"dataframe\">\n",
       "  <thead>\n",
       "    <tr style=\"text-align: right;\">\n",
       "      <th></th>\n",
       "      <th>exp_name</th>\n",
       "      <th>datafile_name</th>\n",
       "      <th>NDF</th>\n",
       "      <th>chunk_name</th>\n",
       "      <th>protocol_name</th>\n",
       "      <th>is_mea</th>\n",
       "      <th>data_dir</th>\n",
       "      <th>group_label</th>\n",
       "      <th>experiment_id</th>\n",
       "      <th>protocol_id</th>\n",
       "      <th>group_id</th>\n",
       "      <th>block_id</th>\n",
       "      <th>chunk_id</th>\n",
       "    </tr>\n",
       "  </thead>\n",
       "  <tbody>\n",
       "    <tr>\n",
       "      <th>0</th>\n",
       "      <td>20250429C</td>\n",
       "      <td>data007</td>\n",
       "      <td>0.5</td>\n",
       "      <td>moving_letters</td>\n",
       "      <td>edu.washington.riekelab.protocols.MovingLetters</td>\n",
       "      <td>1</td>\n",
       "      <td>20250429C/data007</td>\n",
       "      <td>DR moving letters</td>\n",
       "      <td>122</td>\n",
       "      <td>67</td>\n",
       "      <td>2250</td>\n",
       "      <td>3265</td>\n",
       "      <td>476</td>\n",
       "    </tr>\n",
       "    <tr>\n",
       "      <th>1</th>\n",
       "      <td>20250429C</td>\n",
       "      <td>data009</td>\n",
       "      <td>0.5</td>\n",
       "      <td>moving_letters</td>\n",
       "      <td>edu.washington.riekelab.protocols.MovingLetters</td>\n",
       "      <td>1</td>\n",
       "      <td>20250429C/data009</td>\n",
       "      <td>DR moving letters</td>\n",
       "      <td>122</td>\n",
       "      <td>67</td>\n",
       "      <td>2252</td>\n",
       "      <td>3267</td>\n",
       "      <td>476</td>\n",
       "    </tr>\n",
       "    <tr>\n",
       "      <th>2</th>\n",
       "      <td>20250514C</td>\n",
       "      <td>data003</td>\n",
       "      <td>0.5</td>\n",
       "      <td>movies_images</td>\n",
       "      <td>edu.washington.riekelab.protocols.PresentMatFiles</td>\n",
       "      <td>1</td>\n",
       "      <td>20250514C/data003</td>\n",
       "      <td>PresentMatFiles</td>\n",
       "      <td>124</td>\n",
       "      <td>68</td>\n",
       "      <td>2277</td>\n",
       "      <td>3298</td>\n",
       "      <td>488</td>\n",
       "    </tr>\n",
       "    <tr>\n",
       "      <th>3</th>\n",
       "      <td>20250514C</td>\n",
       "      <td>data015</td>\n",
       "      <td>0.5</td>\n",
       "      <td>moving_letters</td>\n",
       "      <td>edu.washington.riekelab.protocols.MovingLetters</td>\n",
       "      <td>1</td>\n",
       "      <td>20250514C/data015</td>\n",
       "      <td>DR Moving Letters</td>\n",
       "      <td>124</td>\n",
       "      <td>67</td>\n",
       "      <td>2289</td>\n",
       "      <td>3310</td>\n",
       "      <td>490</td>\n",
       "    </tr>\n",
       "    <tr>\n",
       "      <th>4</th>\n",
       "      <td>20250527C</td>\n",
       "      <td>data010</td>\n",
       "      <td>0.5</td>\n",
       "      <td>moving_letters</td>\n",
       "      <td>edu.washington.riekelab.protocols.MovingLetters</td>\n",
       "      <td>1</td>\n",
       "      <td>20250527C/data010</td>\n",
       "      <td>Moving E</td>\n",
       "      <td>125</td>\n",
       "      <td>67</td>\n",
       "      <td>2299</td>\n",
       "      <td>3322</td>\n",
       "      <td>497</td>\n",
       "    </tr>\n",
       "    <tr>\n",
       "      <th>5</th>\n",
       "      <td>20250530C</td>\n",
       "      <td>data002</td>\n",
       "      <td>0.5</td>\n",
       "      <td>moving_letters</td>\n",
       "      <td>edu.washington.riekelab.protocols.MovingLetters</td>\n",
       "      <td>1</td>\n",
       "      <td>20250530C/data002</td>\n",
       "      <td>Moving Letters</td>\n",
       "      <td>127</td>\n",
       "      <td>67</td>\n",
       "      <td>2316</td>\n",
       "      <td>3340</td>\n",
       "      <td>510</td>\n",
       "    </tr>\n",
       "  </tbody>\n",
       "</table>\n",
       "</div>"
      ],
      "text/plain": [
       "    exp_name datafile_name  NDF      chunk_name  \\\n",
       "0  20250429C       data007  0.5  moving_letters   \n",
       "1  20250429C       data009  0.5  moving_letters   \n",
       "2  20250514C       data003  0.5   movies_images   \n",
       "3  20250514C       data015  0.5  moving_letters   \n",
       "4  20250527C       data010  0.5  moving_letters   \n",
       "5  20250530C       data002  0.5  moving_letters   \n",
       "\n",
       "                                       protocol_name  is_mea  \\\n",
       "0    edu.washington.riekelab.protocols.MovingLetters       1   \n",
       "1    edu.washington.riekelab.protocols.MovingLetters       1   \n",
       "2  edu.washington.riekelab.protocols.PresentMatFiles       1   \n",
       "3    edu.washington.riekelab.protocols.MovingLetters       1   \n",
       "4    edu.washington.riekelab.protocols.MovingLetters       1   \n",
       "5    edu.washington.riekelab.protocols.MovingLetters       1   \n",
       "\n",
       "            data_dir        group_label  experiment_id  protocol_id  group_id  \\\n",
       "0  20250429C/data007  DR moving letters            122           67      2250   \n",
       "1  20250429C/data009  DR moving letters            122           67      2252   \n",
       "2  20250514C/data003    PresentMatFiles            124           68      2277   \n",
       "3  20250514C/data015  DR Moving Letters            124           67      2289   \n",
       "4  20250527C/data010           Moving E            125           67      2299   \n",
       "5  20250530C/data002     Moving Letters            127           67      2316   \n",
       "\n",
       "   block_id  chunk_id  \n",
       "0      3265       476  \n",
       "1      3267       476  \n",
       "2      3298       488  \n",
       "3      3310       490  \n",
       "4      3322       497  \n",
       "5      3340       510  "
      ]
     },
     "metadata": {},
     "output_type": "display_data"
    }
   ],
   "source": [
    "protocols_to_query = ['movingletters', 'presentmatfiles']\n",
    "experiment_query = ra.get_datasets_from_protocol_names(protocols_to_query)\n",
    "display(experiment_query)"
   ]
  },
  {
   "cell_type": "markdown",
   "id": "4a1e8e3d",
   "metadata": {},
   "source": [
    "## Select experiment and data file of interest"
   ]
  },
  {
   "cell_type": "code",
   "execution_count": null,
   "id": "c0fb64e7",
   "metadata": {},
   "outputs": [
    {
     "name": "stdout",
     "output_type": "stream",
     "text": [
      "Nearest noise chunk for data007 is chunk2 with distance 50 minutes.\n",
      "\n",
      "Loading VCD from /Volumes/ExternalM2/mea_ssd/data/sorted/20250429C/data007/kilosort2.5 ...\n",
      "VCD loaded with 890 cells.\n",
      "Using chunk2 for AnalysisChunk\n",
      "Loading VCD from /Volumes/ExternalM2/mea_ssd/analysis/20250429C/chunk2/kilosort2.5 ...\n",
      "VCD loaded with 715 cells.\n"
     ]
    },
    {
     "ename": "FileNotFoundError",
     "evalue": "[Errno 2] No such file or directory: '/Volumes/ExternalM2/mea_ssd/analysis/20250429C/chunk2/kilosort2.5/autoClassification.txt'",
     "output_type": "error",
     "traceback": [
      "\u001b[31m---------------------------------------------------------------------------\u001b[39m",
      "\u001b[31mFileNotFoundError\u001b[39m                         Traceback (most recent call last)",
      "\u001b[36mCell\u001b[39m\u001b[36m \u001b[39m\u001b[32mIn[3]\u001b[39m\u001b[32m, line 3\u001b[39m\n\u001b[32m      1\u001b[39m exp_name = experiment_query.loc[\u001b[32m0\u001b[39m, \u001b[33m'\u001b[39m\u001b[33mexp_name\u001b[39m\u001b[33m'\u001b[39m]\n\u001b[32m      2\u001b[39m datafile_name = experiment_query.loc[\u001b[32m0\u001b[39m,\u001b[33m'\u001b[39m\u001b[33mdatafile_name\u001b[39m\u001b[33m'\u001b[39m]\n\u001b[32m----> \u001b[39m\u001b[32m3\u001b[39m pipeline=ra.create_pipeline(exp_name, datafile_name)\n\u001b[32m      4\u001b[39m stim = pipeline.stim_block\n\u001b[32m      5\u001b[39m response = pipeline.response_block\n",
      "\u001b[36mFile \u001b[39m\u001b[32m~/UW/Core Repositories/retinanalysis/src/retinanalysis/mea_pipeline.py:160\u001b[39m, in \u001b[36mcreate_pipeline\u001b[39m\u001b[34m(exp_name, datafile_name, analysis_chunk_name, ss_version, ls_params)\u001b[39m\n\u001b[32m    158\u001b[39m     analysis_chunk_name = s.nearest_noise_chunk\n\u001b[32m    159\u001b[39m     \u001b[38;5;28mprint\u001b[39m(\u001b[33mf\u001b[39m\u001b[33m'\u001b[39m\u001b[33mUsing \u001b[39m\u001b[38;5;132;01m{\u001b[39;00manalysis_chunk_name\u001b[38;5;132;01m}\u001b[39;00m\u001b[33m for AnalysisChunk\u001b[39m\u001b[33m'\u001b[39m)\n\u001b[32m--> \u001b[39m\u001b[32m160\u001b[39m ac = AnalysisChunk(exp_name, analysis_chunk_name, ss_version)\n\u001b[32m    161\u001b[39m mp = MEAPipeline(s, r, ac)\n\u001b[32m    162\u001b[39m \u001b[38;5;28;01mreturn\u001b[39;00m mp\n",
      "\u001b[36mFile \u001b[39m\u001b[32m~/UW/Core Repositories/retinanalysis/src/retinanalysis/analysis_chunk.py:63\u001b[39m, in \u001b[36mAnalysisChunk.__init__\u001b[39m\u001b[34m(self, exp_name, chunk_name, ss_version, pkl_file, b_load_spatial_maps, **vu_kwargs)\u001b[39m\n\u001b[32m     61\u001b[39m \u001b[38;5;28mself\u001b[39m.cell_ids = \u001b[38;5;28mself\u001b[39m.vcd.get_cell_ids()\n\u001b[32m     62\u001b[39m \u001b[38;5;28mself\u001b[39m.get_rf_params()\n\u001b[32m---> \u001b[39m\u001b[32m63\u001b[39m \u001b[38;5;28mself\u001b[39m.get_df()\n\u001b[32m     64\u001b[39m \u001b[38;5;28;01mif\u001b[39;00m b_load_spatial_maps:\n\u001b[32m     65\u001b[39m     \u001b[38;5;28mself\u001b[39m.get_spatial_maps()\n",
      "\u001b[36mFile \u001b[39m\u001b[32m~/UW/Core Repositories/retinanalysis/src/retinanalysis/analysis_chunk.py:135\u001b[39m, in \u001b[36mAnalysisChunk.get_df\u001b[39m\u001b[34m(self)\u001b[39m\n\u001b[32m    132\u001b[39m file_path = os.path.join(NAS_ANALYSIS_DIR, \u001b[38;5;28mself\u001b[39m.exp_name, \u001b[38;5;28mself\u001b[39m.chunk_name, \u001b[38;5;28mself\u001b[39m.ss_version, typing_file)\n\u001b[32m    133\u001b[39m d_result = \u001b[38;5;28mdict\u001b[39m()\n\u001b[32m--> \u001b[39m\u001b[32m135\u001b[39m \u001b[38;5;28;01mwith\u001b[39;00m \u001b[38;5;28mopen\u001b[39m(file_path, \u001b[33m'\u001b[39m\u001b[33mr\u001b[39m\u001b[33m'\u001b[39m) \u001b[38;5;28;01mas\u001b[39;00m file:\n\u001b[32m    136\u001b[39m     \u001b[38;5;28;01mfor\u001b[39;00m line \u001b[38;5;129;01min\u001b[39;00m file:\n\u001b[32m    137\u001b[39m         \u001b[38;5;66;03m# Split each line into key and value using the specified delimiter\u001b[39;00m\n\u001b[32m    138\u001b[39m         key, value = \u001b[38;5;28mmap\u001b[39m(\u001b[38;5;28mstr\u001b[39m.strip, line.split(\u001b[33m'\u001b[39m\u001b[33m \u001b[39m\u001b[33m'\u001b[39m, \u001b[32m1\u001b[39m))\n",
      "\u001b[31mFileNotFoundError\u001b[39m: [Errno 2] No such file or directory: '/Volumes/ExternalM2/mea_ssd/analysis/20250429C/chunk2/kilosort2.5/autoClassification.txt'"
     ]
    }
   ],
   "source": [
    "exp_name = experiment_query.loc[1, 'exp_name']\n",
    "datafile_name = experiment_query.loc[1,'datafile_name']\n",
    "pipeline=ra.create_pipeline(exp_name, datafile_name)\n",
    "stim = pipeline.stim_block\n",
    "response = pipeline.response_block\n",
    "analysis = pipeline.analysis_chunk"
   ]
  },
  {
   "cell_type": "code",
   "execution_count": null,
   "id": "dcbb186e",
   "metadata": {},
   "outputs": [],
   "source": [
    "cell_types = ['OnP', 'OffP', 'OnM', 'OffM', 'SBC', 'Xmas']\n",
    "rf_axes = pipeline.plot_rfs(cell_types = cell_types, units = 'pixels')\n",
    "timecourse_axes = pipeline.plot_timecourses(cell_types = cell_types);"
   ]
  },
  {
   "cell_type": "code",
   "execution_count": null,
   "id": "74bd1eb3",
   "metadata": {},
   "outputs": [],
   "source": [
    "epoch_params = ['imageOrder']\n",
    "image_order = [lst for lst in stim.df_epochs['imageOrder']]\n",
    "image_order = np.array(image_order)\n",
    "\n",
    "images_per_epoch = stim.df_epochs.loc[0,'epoch_parameters']['imagesPerEpoch']\n",
    "num_epochs = len(stim.df_epochs)\n",
    "\n"
   ]
  }
 ],
 "metadata": {
  "kernelspec": {
   "display_name": "retinanalysis",
   "language": "python",
   "name": "python3"
  },
  "language_info": {
   "codemirror_mode": {
    "name": "ipython",
    "version": 3
   },
   "file_extension": ".py",
   "mimetype": "text/x-python",
   "name": "python",
   "nbconvert_exporter": "python",
   "pygments_lexer": "ipython3",
   "version": "3.11.13"
  }
 },
 "nbformat": 4,
 "nbformat_minor": 5
}
