{
 "cells": [
  {
   "cell_type": "code",
   "execution_count": null,
   "id": "1eee221f",
   "metadata": {},
   "outputs": [],
   "source": [
    "import retinanalysis as ra\n",
    "import retinanalysis.schema as schema\n",
    "import numpy as np\n",
    "from matplotlib.patches import Ellipse\n",
    "import matplotlib.pyplot as plt\n",
    "\n",
    "ra.djconnect()"
   ]
  },
  {
   "cell_type": "markdown",
   "id": "bb1c1c41",
   "metadata": {},
   "source": [
    "## Step 1: Query protocol across all experiments"
   ]
  },
  {
   "cell_type": "code",
   "execution_count": null,
   "id": "d12b9400",
   "metadata": {},
   "outputs": [],
   "source": [
    "protocols_to_query = ['movingletters', 'presentmatfiles']\n",
    "experiment_query = ra.get_datasets_from_protocol_names(protocols_to_query)\n",
    "display(experiment_query)"
   ]
  },
  {
   "cell_type": "markdown",
   "id": "4a1e8e3d",
   "metadata": {},
   "source": [
    "## Select experiment and data file of interest"
   ]
  },
  {
   "cell_type": "code",
   "execution_count": null,
   "id": "c0fb64e7",
   "metadata": {},
   "outputs": [],
   "source": [
    "exp_name = experiment_query.loc[1, 'exp_name']\n",
    "datafile_name = experiment_query.loc[1,'datafile_name']\n",
    "\n",
    "# Create stim, response, analysis_chunk and pipeline class\n",
    "stim = ra.StimBlock(exp_name, datafile_name)\n",
    "response = ra.ResponseBlock(exp_name, datafile_name)\n",
    "analysis_chunk = ra.AnalysisChunk(exp_name, stim.nearest_noise_chunk)\n",
    "pipeline = ra.MEAPipeline(stim, response, analysis_chunk)\n"
   ]
  },
  {
   "cell_type": "code",
   "execution_count": null,
   "id": "a6d43f4e",
   "metadata": {},
   "outputs": [],
   "source": [
    "cell_ids = response.df_spike_times.iloc[0:50].index.values\n",
    "# cell_types = ['OnP', 'OffP']\n",
    "# cell_ids = list(response.df_spike_times.query('cell_type == @cell_types').index.values)\n",
    "# display(response.df_spike_times.query('cell_type == @cell_types'))\n",
    "\n",
    "axes = pipeline.plot_rfs(cell_ids = cell_ids, units = 'microns');"
   ]
  },
  {
   "cell_type": "code",
   "execution_count": null,
   "id": "74bd1eb3",
   "metadata": {},
   "outputs": [],
   "source": [
    "epoch_params = ['imageOrder']\n",
    "image_order = [lst for lst in stim.df_epochs['imageOrder']]\n",
    "image_order = np.array(image_order)\n",
    "\n",
    "# display(stim.df_epochs.columns)\n",
    "\n",
    "images_per_epoch = stim.df_epochs.loc[0,'epoch_parameters']['imagesPerEpoch']\n",
    "num_epochs = len(stim.df_epochs)\n",
    "\n",
    "# epochs_to_see = [1, 2, 5, 245, 6, 232]\n",
    "# display(stim.df_epochs[['imageOrder', 'matFile']].query('epoch_index == @epochs_to_see'))\n",
    "\n",
    "cell_of_interest = 6\n",
    "cell_1_times = response.df_spike_times.query('cell_id == 1')['spike_times'].values\n",
    "\n",
    "OffP_noise_ids = analysis_chunk.cell_params_df.query('typing_file_0 == \"OffP\"')['cell_id'].values\n",
    "OffP_protocol_ids = [pipeline.match_dict[cell] for cell in OffP_noise_ids if cell in pipeline.match_dict.keys()]\n",
    "OffP_responses = response.df_spike_times.query('cell_id == @OffP_protocol_ids')\n",
    "OffP_spike_times = OffP_responses['spike_times'].values\n",
    "\n",
    "test = np.empty((OffP_spike_times.shape[0], OffP_spike_times[0].shape[0]), dtype = object)\n",
    "for i in range(test.shape[0]):\n",
    "    test[i,:] = OffP_spike_times[i]\n",
    "\n",
    "print(test.shape)\n",
    "fig, ax = plt.subplots()\n",
    "\n",
    "epochs_to_plot = np.arange(0,9)\n",
    "ax.eventplot(test[:,0], color = 'k', linewidths = 0.8, linelengths = 0.8)\n",
    "ax.set_xlabel(\"Time (ms)\")\n",
    "ax.set_ylabel(\"Epoch\")\n"
   ]
  },
  {
   "cell_type": "code",
   "execution_count": null,
   "id": "dac2723c",
   "metadata": {},
   "outputs": [],
   "source": [
    "cell_types = ['OnP', 'OffP']\n",
    "cell_ids = [1, 3, 9, 10, 38, 42, 121,]\n",
    "\n",
    "cts = list(response.df_spike_times['cell_type'].unique())\n",
    "\n",
    "display(cts)\n",
    "test = [key for key, val in pipeline.match_dict.items()]\n",
    "print(test)\n",
    "\n",
    "\n",
    "protocol_ids = response.df_spike_times.query('cell_type == @cell_types').index.values\n",
    "ids_to_plot = [key for key, val in pipeline.match_dict.items() if (val in protocol_ids\n",
    "                                                           and val in cell_ids)]\n",
    "\n",
    "corr_ids = [val for key, val in pipeline.match_dict.items() if (val in protocol_ids\n",
    "                                                        and val in cell_ids)]\n",
    "print(ids_to_plot)\n",
    "print(corr_ids)"
   ]
  },
  {
   "cell_type": "code",
   "execution_count": null,
   "id": "0f8ef5c1",
   "metadata": {},
   "outputs": [],
   "source": [
    "\n",
    "def get_ells(analysis_chunk, cell_types, std_scaler = 1.6, units = None):\n",
    "    \n",
    "    if units is not None:\n",
    "        if 'microns' in units.lower():\n",
    "            scale_factor = analysis_chunk.microns_per_stixel\n",
    "        elif 'pixels' in units.lower():\n",
    "            scale_factor = analysis_chunk.pixels_per_stixel\n",
    "        else:\n",
    "            scale_factor = 1\n",
    "    else:\n",
    "        scale_factor = 1\n",
    "\n",
    "    ells = []\n",
    "    for idx, ct in enumerate(cell_types):\n",
    "        ell_dict = dict()\n",
    "        cell_df = analysis_chunk.cell_params_df.query('typing_file_0 == @ct')\n",
    "        rf_params = analysis_chunk.rf_params\n",
    "        cell_ids = cell_df['cell_id'].values\n",
    "        for id in cell_ids:\n",
    "            ell_dict[id] = Ellipse(xy=(rf_params[id]['center_x']*scale_factor,\n",
    "                                    rf_params[id]['center_y']*scale_factor),\n",
    "                                    width = rf_params[id]['std_x']*std_scaler*scale_factor,\n",
    "                                    height = rf_params[id]['std_y']*std_scaler*scale_factor,\n",
    "                                    angle = rf_params[id]['rot'],\n",
    "                                    facecolor= f'C{idx}', edgecolor= f'C{idx}',\n",
    "                                    alpha = 0.7)\n",
    "        ells.append(ell_dict)\n",
    "    \n",
    "    return ells, scale_factor\n",
    "\n",
    "units = 'pixels'\n",
    "cell_types = ['OffP', 'OnP', 'OffM', 'OnM', 'SBC']\n",
    "all_ells, scale_factor = get_ells(analysis_chunk, cell_types, units = units)\n",
    "\n",
    "fig, ax = plt.subplots(nrows=1, ncols = len(cell_types), figsize = (18, 12/len(cell_types)))\n",
    "\n",
    "for idx, ct in enumerate(cell_types):\n",
    "    for id in all_ells[idx]:\n",
    "        ax[idx].add_patch(all_ells[idx][id])\n",
    "\n",
    "    ax[idx].set_xlim(0,analysis_chunk.numXChecks * scale_factor)\n",
    "    ax[idx].set_ylim(0,analysis_chunk.numYChecks * scale_factor)\n",
    "    if units is not None:\n",
    "        ax[idx].set_ylabel(units.lower())\n",
    "        ax[idx].set_xlabel(units.lower())\n",
    "\n",
    "fig.tight_layout()\n",
    "\n"
   ]
  }
 ],
 "metadata": {
  "kernelspec": {
   "display_name": "datajoint",
   "language": "python",
   "name": "python3"
  },
  "language_info": {
   "codemirror_mode": {
    "name": "ipython",
    "version": 3
   },
   "file_extension": ".py",
   "mimetype": "text/x-python",
   "name": "python",
   "nbconvert_exporter": "python",
   "pygments_lexer": "ipython3",
   "version": "3.9.16"
  }
 },
 "nbformat": 4,
 "nbformat_minor": 5
}
