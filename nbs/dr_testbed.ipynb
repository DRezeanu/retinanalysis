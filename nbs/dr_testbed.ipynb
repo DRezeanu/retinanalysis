{
 "cells": [
  {
   "cell_type": "code",
   "execution_count": null,
   "id": "1eee221f",
   "metadata": {},
   "outputs": [],
   "source": [
    "import retinanalysis as ra\n",
    "import numpy as np\n",
    "import matplotlib.pyplot as plt\n",
    "import xarray as xr"
   ]
  },
  {
   "cell_type": "markdown",
   "id": "bb1c1c41",
   "metadata": {},
   "source": [
    "## Step 1: Query protocol across all experiments"
   ]
  },
  {
   "cell_type": "code",
   "execution_count": null,
   "id": "d12b9400",
   "metadata": {},
   "outputs": [],
   "source": [
    "protocols_to_query = ['movingletters', 'presentmatfiles']\n",
    "experiment_query = ra.get_datasets_from_protocol_names(protocols_to_query)\n",
    "display(experiment_query)"
   ]
  },
  {
   "cell_type": "markdown",
   "id": "4a1e8e3d",
   "metadata": {},
   "source": [
    "## Select experiment and data file of interest"
   ]
  },
  {
   "cell_type": "code",
   "execution_count": null,
   "id": "c0fb64e7",
   "metadata": {},
   "outputs": [],
   "source": [
    "exp_name = experiment_query.loc[2, 'exp_name']\n",
    "datafile_name = experiment_query.loc[2,'datafile_name']\n",
    "pipeline=ra.create_mea_pipeline(exp_name, datafile_name)\n",
    "stim = pipeline.stim_block\n",
    "response = pipeline.response_block\n",
    "analysis = pipeline.analysis_chunk"
   ]
  },
  {
   "cell_type": "code",
   "execution_count": null,
   "id": "dcbb186e",
   "metadata": {},
   "outputs": [],
   "source": [
    "cell_types = ['OnP', 'OffP', 'OnM', 'OffM', 'SBC', 'Xmas']\n",
    "rf_axes = pipeline.plot_rfs(cell_types = cell_types, units = 'pixels')\n",
    "timecourse_axes = pipeline.plot_timecourses(cell_types = cell_types);"
   ]
  },
  {
   "cell_type": "code",
   "execution_count": null,
   "id": "74bd1eb3",
   "metadata": {},
   "outputs": [],
   "source": [
    "epoch_params = ['imageOrder']\n",
    "image_order = [lst for lst in stim.df_epochs['imageOrder']]\n",
    "image_order = np.array(image_order)\n",
    "\n",
    "images_per_epoch = stim.df_epochs.loc[0,'epoch_parameters']['imagesPerEpoch']\n",
    "num_epochs = len(stim.df_epochs)"
   ]
  }
 ],
 "metadata": {
  "kernelspec": {
   "display_name": "retinanalysis",
   "language": "python",
   "name": "python3"
  },
  "language_info": {
   "codemirror_mode": {
    "name": "ipython",
    "version": 3
   },
   "file_extension": ".py",
   "mimetype": "text/x-python",
   "name": "python",
   "nbconvert_exporter": "python",
   "pygments_lexer": "ipython3",
   "version": "3.11.8"
  }
 },
 "nbformat": 4,
 "nbformat_minor": 5
}
