{
 "cells": [
  {
   "cell_type": "code",
   "execution_count": 1,
   "id": "1eee221f",
   "metadata": {},
   "outputs": [
    {
     "name": "stderr",
     "output_type": "stream",
     "text": [
      "[2025-06-30 16:13:04,781][INFO]: Connecting root@127.0.0.1:3306\n",
      "[2025-06-30 16:13:04,824][INFO]: Connected root@127.0.0.1:3306\n"
     ]
    }
   ],
   "source": [
    "import retinanalysis as ra\n",
    "import retinanalysis.schema as schema\n",
    "import numpy as np\n",
    "from matplotlib.patches import Ellipse\n",
    "import matplotlib.pyplot as plt\n",
    "\n",
    "ra.djconnect()"
   ]
  },
  {
   "cell_type": "markdown",
   "id": "bb1c1c41",
   "metadata": {},
   "source": [
    "## Step 1: Query protocol across all experiments"
   ]
  },
  {
   "cell_type": "code",
   "execution_count": 2,
   "id": "d12b9400",
   "metadata": {},
   "outputs": [
    {
     "name": "stdout",
     "output_type": "stream",
     "text": [
      "\n",
      "Found 1 protocols matching \"movingletters\":\n",
      "['edu.washington.riekelab.protocols.MovingLetters']\n",
      "\n",
      "Found 1 protocols matching \"presentmatfiles\":\n",
      "['edu.washington.riekelab.protocols.PresentMatFiles']\n",
      "\n",
      "Found 4 experiments, 6 epoch blocks.\n",
      "\n"
     ]
    },
    {
     "data": {
      "text/html": [
       "<div>\n",
       "<style scoped>\n",
       "    .dataframe tbody tr th:only-of-type {\n",
       "        vertical-align: middle;\n",
       "    }\n",
       "\n",
       "    .dataframe tbody tr th {\n",
       "        vertical-align: top;\n",
       "    }\n",
       "\n",
       "    .dataframe thead th {\n",
       "        text-align: right;\n",
       "    }\n",
       "</style>\n",
       "<table border=\"1\" class=\"dataframe\">\n",
       "  <thead>\n",
       "    <tr style=\"text-align: right;\">\n",
       "      <th></th>\n",
       "      <th>exp_name</th>\n",
       "      <th>datafile_name</th>\n",
       "      <th>NDF</th>\n",
       "      <th>chunk_name</th>\n",
       "      <th>protocol_name</th>\n",
       "      <th>is_mea</th>\n",
       "      <th>data_dir</th>\n",
       "      <th>group_label</th>\n",
       "      <th>experiment_id</th>\n",
       "      <th>protocol_id</th>\n",
       "      <th>group_id</th>\n",
       "      <th>block_id</th>\n",
       "      <th>chunk_id</th>\n",
       "    </tr>\n",
       "  </thead>\n",
       "  <tbody>\n",
       "    <tr>\n",
       "      <th>0</th>\n",
       "      <td>20250514C</td>\n",
       "      <td>data003</td>\n",
       "      <td>0.5</td>\n",
       "      <td>movies_images</td>\n",
       "      <td>edu.washington.riekelab.protocols.PresentMatFiles</td>\n",
       "      <td>1</td>\n",
       "      <td>20250514C/data003</td>\n",
       "      <td>PresentMatFiles</td>\n",
       "      <td>132</td>\n",
       "      <td>68</td>\n",
       "      <td>2428</td>\n",
       "      <td>3485</td>\n",
       "      <td>563</td>\n",
       "    </tr>\n",
       "    <tr>\n",
       "      <th>1</th>\n",
       "      <td>20250514C</td>\n",
       "      <td>data015</td>\n",
       "      <td>0.5</td>\n",
       "      <td>moving_letters</td>\n",
       "      <td>edu.washington.riekelab.protocols.MovingLetters</td>\n",
       "      <td>1</td>\n",
       "      <td>20250514C/data015</td>\n",
       "      <td>DR Moving Letters</td>\n",
       "      <td>132</td>\n",
       "      <td>67</td>\n",
       "      <td>2440</td>\n",
       "      <td>3497</td>\n",
       "      <td>565</td>\n",
       "    </tr>\n",
       "    <tr>\n",
       "      <th>2</th>\n",
       "      <td>20250530C</td>\n",
       "      <td>data002</td>\n",
       "      <td>0.5</td>\n",
       "      <td>moving_letters</td>\n",
       "      <td>edu.washington.riekelab.protocols.MovingLetters</td>\n",
       "      <td>1</td>\n",
       "      <td>20250530C/data002</td>\n",
       "      <td>Moving Letters</td>\n",
       "      <td>139</td>\n",
       "      <td>67</td>\n",
       "      <td>2493</td>\n",
       "      <td>3560</td>\n",
       "      <td>595</td>\n",
       "    </tr>\n",
       "    <tr>\n",
       "      <th>3</th>\n",
       "      <td>20250429C</td>\n",
       "      <td>data007</td>\n",
       "      <td>0.5</td>\n",
       "      <td>moving_letters</td>\n",
       "      <td>edu.washington.riekelab.protocols.MovingLetters</td>\n",
       "      <td>1</td>\n",
       "      <td>20250429C/data007</td>\n",
       "      <td>DR moving letters</td>\n",
       "      <td>140</td>\n",
       "      <td>67</td>\n",
       "      <td>2501</td>\n",
       "      <td>3572</td>\n",
       "      <td>596</td>\n",
       "    </tr>\n",
       "    <tr>\n",
       "      <th>4</th>\n",
       "      <td>20250429C</td>\n",
       "      <td>data009</td>\n",
       "      <td>0.5</td>\n",
       "      <td>moving_letters</td>\n",
       "      <td>edu.washington.riekelab.protocols.MovingLetters</td>\n",
       "      <td>1</td>\n",
       "      <td>20250429C/data009</td>\n",
       "      <td>DR moving letters</td>\n",
       "      <td>140</td>\n",
       "      <td>67</td>\n",
       "      <td>2503</td>\n",
       "      <td>3574</td>\n",
       "      <td>596</td>\n",
       "    </tr>\n",
       "    <tr>\n",
       "      <th>5</th>\n",
       "      <td>20250527C</td>\n",
       "      <td>data010</td>\n",
       "      <td>0.5</td>\n",
       "      <td>moving_letters</td>\n",
       "      <td>edu.washington.riekelab.protocols.MovingLetters</td>\n",
       "      <td>1</td>\n",
       "      <td>20250527C/data010</td>\n",
       "      <td>Moving E</td>\n",
       "      <td>147</td>\n",
       "      <td>67</td>\n",
       "      <td>2661</td>\n",
       "      <td>3761</td>\n",
       "      <td>692</td>\n",
       "    </tr>\n",
       "  </tbody>\n",
       "</table>\n",
       "</div>"
      ],
      "text/plain": [
       "    exp_name datafile_name  NDF      chunk_name  \\\n",
       "0  20250514C       data003  0.5   movies_images   \n",
       "1  20250514C       data015  0.5  moving_letters   \n",
       "2  20250530C       data002  0.5  moving_letters   \n",
       "3  20250429C       data007  0.5  moving_letters   \n",
       "4  20250429C       data009  0.5  moving_letters   \n",
       "5  20250527C       data010  0.5  moving_letters   \n",
       "\n",
       "                                       protocol_name  is_mea  \\\n",
       "0  edu.washington.riekelab.protocols.PresentMatFiles       1   \n",
       "1    edu.washington.riekelab.protocols.MovingLetters       1   \n",
       "2    edu.washington.riekelab.protocols.MovingLetters       1   \n",
       "3    edu.washington.riekelab.protocols.MovingLetters       1   \n",
       "4    edu.washington.riekelab.protocols.MovingLetters       1   \n",
       "5    edu.washington.riekelab.protocols.MovingLetters       1   \n",
       "\n",
       "            data_dir        group_label  experiment_id  protocol_id  group_id  \\\n",
       "0  20250514C/data003    PresentMatFiles            132           68      2428   \n",
       "1  20250514C/data015  DR Moving Letters            132           67      2440   \n",
       "2  20250530C/data002     Moving Letters            139           67      2493   \n",
       "3  20250429C/data007  DR moving letters            140           67      2501   \n",
       "4  20250429C/data009  DR moving letters            140           67      2503   \n",
       "5  20250527C/data010           Moving E            147           67      2661   \n",
       "\n",
       "   block_id  chunk_id  \n",
       "0      3485       563  \n",
       "1      3497       565  \n",
       "2      3560       595  \n",
       "3      3572       596  \n",
       "4      3574       596  \n",
       "5      3761       692  "
      ]
     },
     "metadata": {},
     "output_type": "display_data"
    }
   ],
   "source": [
    "protocols_to_query = ['movingletters', 'presentmatfiles']\n",
    "experiment_query = ra.get_datasets_from_protocol_names(protocols_to_query)\n",
    "display(experiment_query)"
   ]
  },
  {
   "cell_type": "markdown",
   "id": "4a1e8e3d",
   "metadata": {},
   "source": [
    "## Select experiment and data file of interest"
   ]
  },
  {
   "cell_type": "code",
   "execution_count": 3,
   "id": "c0fb64e7",
   "metadata": {},
   "outputs": [
    {
     "name": "stdout",
     "output_type": "stream",
     "text": [
      "Fetching EIs...\n"
     ]
    },
    {
     "data": {
      "application/vnd.jupyter.widget-view+json": {
       "model_id": "2e7c0fdc45c446148a39ea0a766edf01",
       "version_major": 2,
       "version_minor": 0
      },
      "text/plain": [
       "  0%|          | 0/884 [00:00<?, ?it/s]"
      ]
     },
     "metadata": {},
     "output_type": "display_data"
    },
    {
     "name": "stdout",
     "output_type": "stream",
     "text": [
      "Fetching params...\n"
     ]
    },
    {
     "data": {
      "application/vnd.jupyter.widget-view+json": {
       "model_id": "c41e9f8d445b4914af6e99162beae9fb",
       "version_major": 2,
       "version_minor": 0
      },
      "text/plain": [
       "  0%|          | 0/781 [00:00<?, ?it/s]"
      ]
     },
     "metadata": {},
     "output_type": "display_data"
    },
    {
     "name": "stdout",
     "output_type": "stream",
     "text": [
      "Fetching EIs...\n"
     ]
    },
    {
     "data": {
      "application/vnd.jupyter.widget-view+json": {
       "model_id": "ee2277b8aa9b4cb7bfdcf431378c5aaa",
       "version_major": 2,
       "version_minor": 0
      },
      "text/plain": [
       "  0%|          | 0/781 [00:00<?, ?it/s]"
      ]
     },
     "metadata": {},
     "output_type": "display_data"
    },
    {
     "name": "stdout",
     "output_type": "stream",
     "text": [
      "\n",
      "Ref clusters matched: 485\n",
      "Ref clusters unmatched: 296\n",
      "62.1% matched, 37.9% unmatched.\n"
     ]
    }
   ],
   "source": [
    "exp_name = experiment_query.loc[0, 'exp_name']\n",
    "datafile_name = experiment_query.loc[0,'datafile_name']\n",
    "\n",
    "# Create response, stim, analysis_chunk and pipeline class\n",
    "response = ra.ResponseBlock(exp_name, datafile_name)\n",
    "stim = ra.StimBlock(exp_name, datafile_name)\n",
    "analysis_chunk = ra.AnalysisChunk(exp_name, stim.nearest_noise_chunk)\n",
    "pipeline = ra.MEAPipeline(stim, response, analysis_chunk)"
   ]
  },
  {
   "cell_type": "code",
   "execution_count": null,
   "id": "74bd1eb3",
   "metadata": {},
   "outputs": [],
   "source": [
    "epoch_params = ['imageOrder']\n",
    "image_order = [lst for lst in stim.df_epochs['imageOrder']]\n",
    "image_order = np.array(image_order)\n",
    "\n",
    "# display(stim.df_epochs.columns)\n",
    "\n",
    "images_per_epoch = stim.df_epochs.loc[0,'epoch_parameters']['imagesPerEpoch']\n",
    "num_epochs = len(stim.df_epochs)\n",
    "\n",
    "# epochs_to_see = [1, 2, 5, 245, 6, 232]\n",
    "# display(stim.df_epochs[['imageOrder', 'matFile']].query('epoch_index == @epochs_to_see'))\n",
    "\n",
    "cell_of_interest = 6\n",
    "cell_1_times = response.df_spike_times.query('cell_id == 1')['spike_times'].values\n",
    "\n",
    "OffP_noise_ids = analysis_chunk.cell_params_df.query('typing_file_0 == \"OffP\"')['cell_id'].values\n",
    "OffP_protocol_ids = [pipeline.match_dict[cell] for cell in OffP_noise_ids if cell in pipeline.match_dict.keys()]\n",
    "OffP_responses = response.df_spike_times.query('cell_id == @OffP_protocol_ids')\n",
    "OffP_spike_times = OffP_responses['spike_times'].values\n",
    "\n",
    "test = np.empty((OffP_spike_times.shape[0], OffP_spike_times[0].shape[0]), dtype = object)\n",
    "for i in range(test.shape[0]):\n",
    "    test[i,:] = OffP_spike_times[i]\n",
    "\n",
    "print(test.shape)\n",
    "fig, ax = plt.subplots()\n",
    "\n",
    "epochs_to_plot = np.arange(0,9)\n",
    "ax.eventplot(test[:,0], color = 'k', linewidths = 0.8, linelengths = 0.8)\n",
    "ax.set_xlabel(\"Time (ms)\")\n",
    "ax.set_ylabel(\"Epoch\")\n"
   ]
  },
  {
   "cell_type": "code",
   "execution_count": null,
   "id": "0f8ef5c1",
   "metadata": {},
   "outputs": [],
   "source": [
    "\n",
    "def get_ells(analysis_chunk, cell_types, std_scaler = 1.6, units = None):\n",
    "    \n",
    "    if units is not None:\n",
    "        if 'microns' in units.lower():\n",
    "            scale_factor = analysis_chunk.microns_per_stixel\n",
    "        elif 'pixels' in units.lower():\n",
    "            scale_factor = analysis_chunk.pixels_per_stixel\n",
    "        else:\n",
    "            scale_factor = 1\n",
    "    else:\n",
    "        scale_factor = 1\n",
    "\n",
    "    ells = []\n",
    "    for idx, ct in enumerate(cell_types):\n",
    "        ell_dict = dict()\n",
    "        cell_df = analysis_chunk.cell_params_df.query('typing_file_0 == @ct')\n",
    "        rf_params = analysis_chunk.rf_params\n",
    "        cell_ids = cell_df['cell_id'].values\n",
    "        for id in cell_ids:\n",
    "            ell_dict[id] = Ellipse(xy=(rf_params[id]['center_x']*scale_factor,\n",
    "                                    rf_params[id]['center_y']*scale_factor),\n",
    "                                    width = rf_params[id]['std_x']*std_scaler*scale_factor,\n",
    "                                    height = rf_params[id]['std_y']*std_scaler*scale_factor,\n",
    "                                    angle = rf_params[id]['rot'],\n",
    "                                    facecolor= f'C{idx}', edgecolor= f'C{idx}',\n",
    "                                    alpha = 0.7)\n",
    "        ells.append(ell_dict)\n",
    "    \n",
    "    return ells, scale_factor\n",
    "\n",
    "units = 'pixels'\n",
    "cell_types = ['OffP', 'OnP', 'OffM', 'OnM', 'SBC']\n",
    "all_ells, scale_factor = get_ells(analysis_chunk, cell_types, units = units)\n",
    "\n",
    "fig, ax = plt.subplots(nrows=1, ncols = len(cell_types), figsize = (18, 12/len(cell_types)))\n",
    "\n",
    "for idx, ct in enumerate(cell_types):\n",
    "    for id in all_ells[idx]:\n",
    "        ax[idx].add_patch(all_ells[idx][id])\n",
    "\n",
    "    ax[idx].set_xlim(0,analysis_chunk.numXChecks * scale_factor)\n",
    "    ax[idx].set_ylim(0,analysis_chunk.numYChecks * scale_factor)\n",
    "    if units is not None:\n",
    "        ax[idx].set_ylabel(units.lower())\n",
    "        ax[idx].set_xlabel(units.lower())\n",
    "\n",
    "fig.tight_layout()\n",
    "\n"
   ]
  }
 ],
 "metadata": {
  "kernelspec": {
   "display_name": "datajoint",
   "language": "python",
   "name": "python3"
  },
  "language_info": {
   "codemirror_mode": {
    "name": "ipython",
    "version": 3
   },
   "file_extension": ".py",
   "mimetype": "text/x-python",
   "name": "python",
   "nbconvert_exporter": "python",
   "pygments_lexer": "ipython3",
   "version": "3.9.16"
  }
 },
 "nbformat": 4,
 "nbformat_minor": 5
}
