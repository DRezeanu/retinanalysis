{
 "cells": [
  {
   "cell_type": "code",
   "execution_count": null,
   "id": "1eee221f",
   "metadata": {},
   "outputs": [],
   "source": [
    "import retinanalysis as ra\n",
    "import retinanalysis.schema as schema\n",
    "import numpy as np\n",
    "from matplotlib.patches import Ellipse\n",
    "import matplotlib.pyplot as plt\n",
    "import pandas as pd\n",
    "\n",
    "ra.djconnect()\n"
   ]
  },
  {
   "cell_type": "markdown",
   "id": "bb1c1c41",
   "metadata": {},
   "source": [
    "## Step 1: Query protocol across all experiments"
   ]
  },
  {
   "cell_type": "code",
   "execution_count": null,
   "id": "d12b9400",
   "metadata": {},
   "outputs": [],
   "source": [
    "protocols_to_query = ['movingletters', 'presentmatfiles']\n",
    "experiment_query = ra.get_datasets_from_protocol_names(protocols_to_query)\n",
    "display(experiment_query)"
   ]
  },
  {
   "cell_type": "code",
   "execution_count": null,
   "id": "7ff9ed59",
   "metadata": {},
   "outputs": [],
   "source": [
    "noise_vcd = ra.get_analysis_vcd('20250514C', 'chunk1', 'kilosort2.5')\n",
    "test_vcd = ra.get_protocol_vcd('20250514C', 'data003', 'kilosort2.5')\n",
    "\n",
    "noise_ids = noise_vcd.get_cell_ids()\n",
    "test_ids = test_vcd.get_cell_ids()\n",
    "\n",
    "noise_eis = [noise_vcd.get_ei_for_cell(id).ei for id in noise_ids]\n",
    "test_eis = [test_vcd.get_ei_for_cell(id).ei for id in test_ids]"
   ]
  },
  {
   "cell_type": "code",
   "execution_count": null,
   "id": "69d408a1",
   "metadata": {},
   "outputs": [],
   "source": [
    "corr_vals = ra.ei_corr(noise_vcd, noise_vcd, method = 'full')\n",
    "\n",
    "fig, ax = plt.subplots(figsize=(10,10))\n",
    "ax.imshow(corr_vals);"
   ]
  },
  {
   "cell_type": "code",
   "execution_count": null,
   "id": "d5404dfc",
   "metadata": {},
   "outputs": [],
   "source": [
    "n_removed_channels = 1\n",
    "\n",
    "max_noise_channels = [np.argmax(np.max(ei, axis = 1)) for ei in noise_eis]\n",
    "max_test_channels = [np.argmax(np.max(ei, axis = 1)) for ei in test_eis]\n",
    "\n",
    "print(max_noise_channels)\n",
    "print(max_test_channels)"
   ]
  },
  {
   "cell_type": "markdown",
   "id": "4a1e8e3d",
   "metadata": {},
   "source": [
    "## Select experiment and data file of interest"
   ]
  },
  {
   "cell_type": "code",
   "execution_count": null,
   "id": "c0fb64e7",
   "metadata": {},
   "outputs": [],
   "source": [
    "exp_name = experiment_query.loc[0, 'exp_name']\n",
    "datafile_name = experiment_query.loc[0,'datafile_name']\n",
    "\n",
    "# Create stim, response, analysis_chunk and pipeline class\n",
    "stim = ra.StimBlock(exp_name, datafile_name)\n",
    "response = ra.ResponseBlock(exp_name, datafile_name)\n",
    "analysis_chunk = ra.AnalysisChunk(exp_name, stim.nearest_noise_chunk)\n",
    "pipeline = ra.MEAPipeline(stim, response, analysis_chunk)\n",
    "\n",
    "print(analysis_chunk.chunk_name)"
   ]
  },
  {
   "cell_type": "code",
   "execution_count": null,
   "id": "0454108e",
   "metadata": {},
   "outputs": [],
   "source": [
    "full_corr = pipeline.classification_transfer('chunk3', output_typing_file = 'fullCorr_classification.txt', use_isi = True, use_timecourse = True, method = 'full')\n",
    "space_corr = pipeline.classification_transfer('chunk3', output_typing_file = 'spaceCorr_classification.txt', use_isi = True, use_timecourse = True, method = 'space')\n",
    "power_corr = pipeline.classification_transfer('chunk3', output_typing_file = 'powerCorr_classification.txt', use_isi = True, use_timecourse = True, method = 'power')\n",
    "all_corr = pipeline.classification_transfer('chunk3', output_typing_file = 'allCorr_classification.txt', use_isi = True, use_timecourse = True, method = 'all')"
   ]
  },
  {
   "cell_type": "code",
   "execution_count": null,
   "id": "c9e041cc",
   "metadata": {},
   "outputs": [],
   "source": [
    "\n",
    "\n",
    "pd.set_option('display.max_rows', None)\n",
    "\n",
    "def add_matches(input_df, column_name, match_dict, protocol_ids):\n",
    "\n",
    "    for id in protocol_ids:\n",
    "        if id in match_dict:\n",
    "            pass\n",
    "        else:\n",
    "            match_dict[id] = 0\n",
    "\n",
    "    input_df[column_name] = match_dict\n",
    "\n",
    "    return input_df\n",
    "\n",
    "corr_compare = analysis_chunk.df_cell_params[['cell_id', 'typing_file_0']].copy()\n",
    "protocol_ids = corr_compare['cell_id'].values\n",
    "corr_compare = corr_compare.set_index('cell_id')\n",
    "\n",
    "corr_compare  = add_matches(corr_compare, 'full_corr', full_corr, protocol_ids)\n",
    "corr_compare = add_matches(corr_compare, 'space_corr', space_corr, protocol_ids)\n",
    "corr_compare = add_matches(corr_compare, 'power_corr', power_corr, protocol_ids)\n",
    "corr_compare = add_matches(corr_compare, 'all_corr', all_corr, protocol_ids)\n",
    "\n",
    "display(corr_compare.query('typing_file_0 == \"OffP\"'))"
   ]
  },
  {
   "cell_type": "code",
   "execution_count": null,
   "id": "47eb31ca",
   "metadata": {},
   "outputs": [],
   "source": [
    "display(analysis_chunk.typing_files)"
   ]
  },
  {
   "cell_type": "code",
   "execution_count": null,
   "id": "a6d43f4e",
   "metadata": {},
   "outputs": [],
   "source": [
    "cell_ids = response.df_spike_times.iloc[0:50].index.values\n",
    "# cell_types = ['OnP', 'OffP']\n",
    "# cell_ids = list(response.df_spike_times.query('cell_type == @cell_types').index.values)\n",
    "# display(response.df_spike_times.query('cell_type == @cell_types'))\n",
    "\n",
    "axes = pipeline.plot_rfs(cell_ids = cell_ids, units = 'microns');\n"
   ]
  },
  {
   "cell_type": "code",
   "execution_count": null,
   "id": "74bd1eb3",
   "metadata": {},
   "outputs": [],
   "source": [
    "epoch_params = ['imageOrder']\n",
    "image_order = [lst for lst in stim.df_epochs['imageOrder']]\n",
    "image_order = np.array(image_order)\n",
    "\n",
    "# display(stim.df_epochs.columns)\n",
    "\n",
    "images_per_epoch = stim.df_epochs.loc[0,'epoch_parameters']['imagesPerEpoch']\n",
    "num_epochs = len(stim.df_epochs)\n",
    "\n",
    "# epochs_to_see = [1, 2, 5, 245, 6, 232]\n",
    "# display(stim.df_epochs[['imageOrder', 'matFile']].query('epoch_index == @epochs_to_see'))\n",
    "\n",
    "cell_of_interest = 6\n",
    "cell_1_times = response.df_spike_times.query('cell_id == 1')['spike_times'].values\n",
    "\n",
    "OffP_noise_ids = analysis_chunk.cell_params_df.query('typing_file_0 == \"OffP\"')['cell_id'].values\n",
    "OffP_protocol_ids = [pipeline.match_dict[cell] for cell in OffP_noise_ids if cell in pipeline.match_dict.keys()]\n",
    "OffP_responses = response.df_spike_times.query('cell_id == @OffP_protocol_ids')\n",
    "OffP_spike_times = OffP_responses['spike_times'].values\n",
    "\n",
    "test = np.empty((OffP_spike_times.shape[0], OffP_spike_times[0].shape[0]), dtype = object)\n",
    "for i in range(test.shape[0]):\n",
    "    test[i,:] = OffP_spike_times[i]\n",
    "\n",
    "print(test.shape)\n",
    "fig, ax = plt.subplots()\n",
    "\n",
    "epochs_to_plot = np.arange(0,9)\n",
    "ax.eventplot(test[:,0], color = 'k', linewidths = 0.8, linelengths = 0.8)\n",
    "ax.set_xlabel(\"Time (ms)\")\n",
    "ax.set_ylabel(\"Epoch\")\n"
   ]
  },
  {
   "cell_type": "code",
   "execution_count": null,
   "id": "dac2723c",
   "metadata": {},
   "outputs": [],
   "source": [
    "cell_types = ['OnP', 'OffP']\n",
    "cell_ids = [1, 3, 9, 10, 38, 42, 121,]\n",
    "\n",
    "cts = list(response.df_spike_times['cell_type'].unique())\n",
    "\n",
    "display(cts)\n",
    "test = [key for key, val in pipeline.match_dict.items()]\n",
    "print(test)\n",
    "\n",
    "\n",
    "protocol_ids = response.df_spike_times.query('cell_type == @cell_types').index.values\n",
    "ids_to_plot = [key for key, val in pipeline.match_dict.items() if (val in protocol_ids\n",
    "                                                           and val in cell_ids)]\n",
    "\n",
    "corr_ids = [val for key, val in pipeline.match_dict.items() if (val in protocol_ids\n",
    "                                                        and val in cell_ids)]\n",
    "print(ids_to_plot)\n",
    "print(corr_ids)"
   ]
  },
  {
   "cell_type": "code",
   "execution_count": null,
   "id": "0f8ef5c1",
   "metadata": {},
   "outputs": [],
   "source": [
    "\n",
    "def get_ells(analysis_chunk, cell_types, std_scaler = 1.6, units = None):\n",
    "    \n",
    "    if units is not None:\n",
    "        if 'microns' in units.lower():\n",
    "            scale_factor = analysis_chunk.microns_per_stixel\n",
    "        elif 'pixels' in units.lower():\n",
    "            scale_factor = analysis_chunk.pixels_per_stixel\n",
    "        else:\n",
    "            scale_factor = 1\n",
    "    else:\n",
    "        scale_factor = 1\n",
    "\n",
    "    ells = []\n",
    "    for idx, ct in enumerate(cell_types):\n",
    "        ell_dict = dict()\n",
    "        cell_df = analysis_chunk.cell_params_df.query('typing_file_0 == @ct')\n",
    "        rf_params = analysis_chunk.rf_params\n",
    "        cell_ids = cell_df['cell_id'].values\n",
    "        for id in cell_ids:\n",
    "            ell_dict[id] = Ellipse(xy=(rf_params[id]['center_x']*scale_factor,\n",
    "                                    rf_params[id]['center_y']*scale_factor),\n",
    "                                    width = rf_params[id]['std_x']*std_scaler*scale_factor,\n",
    "                                    height = rf_params[id]['std_y']*std_scaler*scale_factor,\n",
    "                                    angle = rf_params[id]['rot'],\n",
    "                                    facecolor= f'C{idx}', edgecolor= f'C{idx}',\n",
    "                                    alpha = 0.7)\n",
    "        ells.append(ell_dict)\n",
    "    \n",
    "    return ells, scale_factor\n",
    "\n",
    "units = 'pixels'\n",
    "cell_types = ['OffP', 'OnP', 'OffM', 'OnM', 'SBC']\n",
    "all_ells, scale_factor = get_ells(analysis_chunk, cell_types, units = units)\n",
    "\n",
    "fig, ax = plt.subplots(nrows=1, ncols = len(cell_types), figsize = (18, 12/len(cell_types)))\n",
    "\n",
    "for idx, ct in enumerate(cell_types):\n",
    "    for id in all_ells[idx]:\n",
    "        ax[idx].add_patch(all_ells[idx][id])\n",
    "\n",
    "    ax[idx].set_xlim(0,analysis_chunk.numXChecks * scale_factor)\n",
    "    ax[idx].set_ylim(0,analysis_chunk.numYChecks * scale_factor)\n",
    "    if units is not None:\n",
    "        ax[idx].set_ylabel(units.lower())\n",
    "        ax[idx].set_xlabel(units.lower())\n",
    "\n",
    "fig.tight_layout()\n",
    "\n"
   ]
  }
 ],
 "metadata": {
  "kernelspec": {
   "display_name": "datajoint",
   "language": "python",
   "name": "python3"
  },
  "language_info": {
   "codemirror_mode": {
    "name": "ipython",
    "version": 3
   },
   "file_extension": ".py",
   "mimetype": "text/x-python",
   "name": "python",
   "nbconvert_exporter": "python",
   "pygments_lexer": "ipython3",
   "version": "3.9.16"
  }
 },
 "nbformat": 4,
 "nbformat_minor": 5
}
