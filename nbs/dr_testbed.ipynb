{
 "cells": [
  {
   "cell_type": "code",
   "execution_count": 1,
   "id": "1eee221f",
   "metadata": {},
   "outputs": [
    {
     "name": "stderr",
     "output_type": "stream",
     "text": [
      "/Users/racheloaks-leaf/anaconda3/envs/analysis2/lib/python3.11/site-packages/datajoint/plugin.py:4: UserWarning: pkg_resources is deprecated as an API. See https://setuptools.pypa.io/en/latest/pkg_resources.html. The pkg_resources package is slated for removal as early as 2025-11-30. Refrain from using this package or pin to Setuptools<81.\n",
      "  import pkg_resources\n",
      "[2025-07-29 12:18:19,245][INFO]: DataJoint 0.14.4 connected to root@127.0.0.1:3306\n"
     ]
    },
    {
     "ename": "FileNotFoundError",
     "evalue": "No config file found. Use reset_config() and create_config() to make one.",
     "output_type": "error",
     "traceback": [
      "\u001b[31m---------------------------------------------------------------------------\u001b[39m",
      "\u001b[31mFileNotFoundError\u001b[39m                         Traceback (most recent call last)",
      "\u001b[36mCell\u001b[39m\u001b[36m \u001b[39m\u001b[32mIn[1]\u001b[39m\u001b[32m, line 1\u001b[39m\n\u001b[32m----> \u001b[39m\u001b[32m1\u001b[39m \u001b[38;5;28;01mimport\u001b[39;00m\u001b[38;5;250m \u001b[39m\u001b[34;01mretinanalysis\u001b[39;00m\u001b[38;5;250m \u001b[39m\u001b[38;5;28;01mas\u001b[39;00m\u001b[38;5;250m \u001b[39m\u001b[34;01mra\u001b[39;00m\n\u001b[32m      2\u001b[39m \u001b[38;5;28;01mimport\u001b[39;00m\u001b[38;5;250m \u001b[39m\u001b[34;01mnumpy\u001b[39;00m\u001b[38;5;250m \u001b[39m\u001b[38;5;28;01mas\u001b[39;00m\u001b[38;5;250m \u001b[39m\u001b[34;01mnp\u001b[39;00m\n",
      "\u001b[36mFile \u001b[39m\u001b[32m~/Desktop/retinanalysis/src/retinanalysis/__init__.py:8\u001b[39m\n\u001b[32m      4\u001b[39m \u001b[38;5;66;03m# Import various data and analysis directories directly.\u001b[39;00m\n\u001b[32m      5\u001b[39m \u001b[38;5;66;03m# Settings doesn't reference any of the utils or classes so it should be\u001b[39;00m\n\u001b[32m      6\u001b[39m \u001b[38;5;66;03m# safe to import first without circular import issues\u001b[39;00m\n\u001b[32m      7\u001b[39m \u001b[38;5;28;01mfrom\u001b[39;00m\u001b[38;5;250m \u001b[39m\u001b[34;01m.\u001b[39;00m\u001b[38;5;250m \u001b[39m\u001b[38;5;28;01mimport\u001b[39;00m config\n\u001b[32m----> \u001b[39m\u001b[32m8\u001b[39m \u001b[38;5;28;01mfrom\u001b[39;00m\u001b[38;5;250m \u001b[39m\u001b[34;01m.\u001b[39;00m\u001b[34;01mconfig\u001b[39;00m\u001b[38;5;250m \u001b[39m\u001b[38;5;28;01mimport\u001b[39;00m settings\n\u001b[32m      9\u001b[39m \u001b[38;5;28;01mfrom\u001b[39;00m\u001b[38;5;250m \u001b[39m\u001b[34;01m.\u001b[39;00m\u001b[34;01mconfig\u001b[39;00m\u001b[34;01m.\u001b[39;00m\u001b[34;01msettings\u001b[39;00m\u001b[38;5;250m \u001b[39m\u001b[38;5;28;01mimport\u001b[39;00m (NAS_ANALYSIS_DIR,\n\u001b[32m     10\u001b[39m                               NAS_DATA_DIR,\n\u001b[32m     11\u001b[39m                               H5_DIR,\n\u001b[32m     12\u001b[39m                               META_DIR,\n\u001b[32m     13\u001b[39m                               TAGS_DIR,\n\u001b[32m     14\u001b[39m                               USER)\n\u001b[32m     16\u001b[39m \u001b[38;5;66;03m# Utilities imported first. They should NEVER reference the classes for anything\u001b[39;00m\n\u001b[32m     17\u001b[39m \u001b[38;5;66;03m# other than type hints, which should be done using the TYPE_CHECKING and \u001b[39;00m\n\u001b[32m     18\u001b[39m \u001b[38;5;66;03m# __future__ annotations imports (see vision_utils). This avoids problems with\u001b[39;00m\n\u001b[32m     19\u001b[39m \u001b[38;5;66;03m# circular imports\u001b[39;00m\n",
      "\u001b[36mFile \u001b[39m\u001b[32m~/Desktop/retinanalysis/src/retinanalysis/config/settings.py:113\u001b[39m\n\u001b[32m     93\u001b[39m \u001b[38;5;66;03m# reset_config('/Users/racheloaks-leaf/Desktop/retinanalysis/src/retinanalysis/')\u001b[39;00m\n\u001b[32m     94\u001b[39m \u001b[38;5;66;03m# create_config(config_path='/Users/racheloaks-leaf/Desktop/retinanalysis/src/retinanalysis/config.ini', \u001b[39;00m\n\u001b[32m     95\u001b[39m \u001b[38;5;66;03m#               config_name='NAS',\u001b[39;00m\n\u001b[32m   (...)\u001b[39m\u001b[32m    109\u001b[39m \u001b[38;5;66;03m#                 tags_dir='/Volumes/RachelSSD/mea/datajoint_testbed/mea/tags/',\u001b[39;00m\n\u001b[32m    110\u001b[39m \u001b[38;5;66;03m#                 username='roaksleaf')\u001b[39;00m\n\u001b[32m    112\u001b[39m config_path = ir.files(retinanalysis) / \u001b[33m\"\u001b[39m\u001b[33mconfig/config.ini\u001b[39m\u001b[33m\"\u001b[39m\n\u001b[32m--> \u001b[39m\u001b[32m113\u001b[39m mea_config = \u001b[43mload_config\u001b[49m\u001b[43m(\u001b[49m\u001b[43mconfig_path\u001b[49m\u001b[43m)\u001b[49m\n\u001b[32m    115\u001b[39m NAS_DATA_DIR = mea_config[\u001b[33m'\u001b[39m\u001b[33mdata\u001b[39m\u001b[33m'\u001b[39m] \n\u001b[32m    116\u001b[39m NAS_ANALYSIS_DIR = mea_config[\u001b[33m'\u001b[39m\u001b[33manalysis\u001b[39m\u001b[33m'\u001b[39m]\n",
      "\u001b[36mFile \u001b[39m\u001b[32m~/Desktop/retinanalysis/src/retinanalysis/config/settings.py:19\u001b[39m, in \u001b[36mload_config\u001b[39m\u001b[34m(config_path)\u001b[39m\n\u001b[32m     17\u001b[39m     configfile.read(config_path)\n\u001b[32m     18\u001b[39m \u001b[38;5;28;01melse\u001b[39;00m:\n\u001b[32m---> \u001b[39m\u001b[32m19\u001b[39m     \u001b[38;5;28;01mraise\u001b[39;00m \u001b[38;5;167;01mFileNotFoundError\u001b[39;00m(\u001b[33m\"\u001b[39m\u001b[33mNo config file found. Use reset_config() and create_config() to make one.\u001b[39m\u001b[33m\"\u001b[39m)\n\u001b[32m     21\u001b[39m \u001b[38;5;28;01mif\u001b[39;00m platform.system() == \u001b[33m'\u001b[39m\u001b[33mDarwin\u001b[39m\u001b[33m'\u001b[39m:\n\u001b[32m     22\u001b[39m     NAS_config = configfile[\u001b[33m'\u001b[39m\u001b[33mDEFAULT\u001b[39m\u001b[33m'\u001b[39m]\n",
      "\u001b[31mFileNotFoundError\u001b[39m: No config file found. Use reset_config() and create_config() to make one."
     ]
    }
   ],
   "source": [
    "import retinanalysis as ra\n",
    "import numpy as np"
   ]
  },
  {
   "cell_type": "markdown",
   "id": "bb1c1c41",
   "metadata": {},
   "source": [
    "## Step 1: Query protocol across all experiments"
   ]
  },
  {
   "cell_type": "code",
   "execution_count": null,
   "id": "d12b9400",
   "metadata": {},
   "outputs": [],
   "source": [
    "protocols_to_query = ['movingletters', 'presentmatfiles']\n",
    "experiment_query = ra.get_datasets_from_protocol_names(protocols_to_query)\n",
    "display(experiment_query)"
   ]
  },
  {
   "cell_type": "markdown",
   "id": "4a1e8e3d",
   "metadata": {},
   "source": [
    "## Select experiment and data file of interest"
   ]
  },
  {
   "cell_type": "code",
   "execution_count": null,
   "id": "c0fb64e7",
   "metadata": {},
   "outputs": [],
   "source": [
    "exp_name = experiment_query.loc[2, 'exp_name']\n",
    "datafile_name = experiment_query.loc[2,'datafile_name']\n",
    "ls_param_names = ['magnificationFactor', 'matFile', 'imageOrder']\n",
    "pipeline=ra.create_mea_pipeline(exp_name, datafile_name, ls_params = ls_param_names)\n",
    "stim = pipeline.stim_block\n",
    "response = pipeline.response_block\n",
    "analysis = pipeline.analysis_chunk"
   ]
  },
  {
   "cell_type": "code",
   "execution_count": null,
   "id": "dcbb186e",
   "metadata": {},
   "outputs": [],
   "source": [
    "cell_types = ['OnP', 'OffP', 'OnM', 'OffM', 'SBC', 'Xmas']\n",
    "\n",
    "roi_dict = {'x_min' : 700, 'x_max' : 1500, 'y_min' : 500, 'y_max' : 600}\n",
    "\n",
    "rf_axes = pipeline.plot_rfs(cell_types = cell_types, units = 'pixels', roi = roi_dict)\n",
    "timecourse_axes = pipeline.plot_timecourses(cell_types = cell_types, roi = roi_dict, roi_units = 'pixels');"
   ]
  },
  {
   "cell_type": "code",
   "execution_count": null,
   "id": "74bd1eb3",
   "metadata": {},
   "outputs": [],
   "source": [
    "epoch_params = ['imageOrder']\n",
    "image_order = [lst for lst in stim.df_epochs['imageOrder']]\n",
    "image_order = np.array(image_order)\n",
    "\n",
    "images_per_epoch = stim.df_epochs.loc[0,'epoch_parameters']['imagesPerEpoch']\n",
    "num_epochs = len(stim.df_epochs)"
   ]
  }
 ],
 "metadata": {
  "kernelspec": {
   "display_name": "analysis2",
   "language": "python",
   "name": "python3"
  },
  "language_info": {
   "codemirror_mode": {
    "name": "ipython",
    "version": 3
   },
   "file_extension": ".py",
   "mimetype": "text/x-python",
   "name": "python",
   "nbconvert_exporter": "python",
   "pygments_lexer": "ipython3",
   "version": "3.11.13"
  }
 },
 "nbformat": 4,
 "nbformat_minor": 5
}
