{
 "cells": [
  {
   "cell_type": "code",
   "execution_count": null,
   "id": "1eee221f",
   "metadata": {},
   "outputs": [],
   "source": [
    "import retinanalysis as ra\n",
    "import retinanalysis.schema as schema\n",
    "import numpy as np\n",
    "import matplotlib.pyplot as plt"
   ]
  },
  {
   "cell_type": "markdown",
   "id": "bb1c1c41",
   "metadata": {},
   "source": [
    "## Step 1: Query protocol across all experiments"
   ]
  },
  {
   "cell_type": "code",
   "execution_count": null,
   "id": "d12b9400",
   "metadata": {},
   "outputs": [],
   "source": [
    "protocols_to_query = ['movingletters', 'presentmatfiles']\n",
    "experiment_query = ra.get_datasets_from_protocol_names(protocols_to_query)\n",
    "display(experiment_query)"
   ]
  },
  {
   "cell_type": "markdown",
   "id": "4a1e8e3d",
   "metadata": {},
   "source": [
    "## Select experiment and data file of interest"
   ]
  },
  {
   "cell_type": "code",
   "execution_count": null,
   "id": "c0fb64e7",
   "metadata": {},
   "outputs": [],
   "source": [
    "exp_name = experiment_query.loc[0, 'exp_name']\n",
    "datafile_name = experiment_query.loc[0,'datafile_name']\n",
    "\n",
    "# Create stim, response, analysis_chunk and pipeline class\n",
    "stim = ra.StimBlock(exp_name, datafile_name)\n",
    "response = ra.ResponseBlock(exp_name, datafile_name)\n",
    "analysis_chunk = ra.AnalysisChunk(exp_name, stim.nearest_noise_chunk)\n",
    "pipeline = ra.MEAPipeline(stim, response, analysis_chunk)"
   ]
  },
  {
   "cell_type": "code",
   "execution_count": null,
   "id": "dcbb186e",
   "metadata": {},
   "outputs": [],
   "source": [
    "cell_types = ['OnP', 'OffP', 'OnM', 'OffM', 'SBC']\n",
    "rf_axes = pipeline.plot_rfs(cell_types = cell_types, units = 'pixels')\n",
    "timecourse_axes = pipeline.plot_timecourses(cell_types = cell_types);"
   ]
  },
  {
   "cell_type": "code",
   "execution_count": null,
   "id": "74bd1eb3",
   "metadata": {},
   "outputs": [],
   "source": [
    "epoch_params = ['imageOrder']\n",
    "image_order = [lst for lst in stim.df_epochs['imageOrder']]\n",
    "image_order = np.array(image_order)\n",
    "\n",
    "# display(stim.df_epochs.columns)\n",
    "\n",
    "images_per_epoch = stim.df_epochs.loc[0,'epoch_parameters']['imagesPerEpoch']\n",
    "num_epochs = len(stim.df_epochs)\n",
    "\n",
    "# epochs_to_see = [1, 2, 5, 245, 6, 232]\n",
    "# display(stim.df_epochs[['imageOrder', 'matFile']].query('epoch_index == @epochs_to_see'))\n",
    "\n",
    "cell_of_interest = 6\n",
    "cell_1_times = response.df_spike_times.query('cell_id == 1')['spike_times'].values\n",
    "\n",
    "OffP_noise_ids = analysis_chunk.df_cell_params.query('typing_file_0 == \"OffP\"')['cell_id'].values\n",
    "OffP_protocol_ids = [pipeline.match_dict[cell] for cell in OffP_noise_ids if cell in pipeline.match_dict.keys()]\n",
    "OffP_responses = response.df_spike_times.query('cell_id == @OffP_protocol_ids')\n",
    "OffP_spike_times = OffP_responses['spike_times'].values\n",
    "\n",
    "st_cell_by_epoch = np.empty((OffP_spike_times.shape[0], OffP_spike_times[0].shape[0]), dtype = object)\n",
    "for i in range(st_cell_by_epoch.shape[0]):\n",
    "    st_cell_by_epoch[i,:] = OffP_spike_times[i]\n",
    "\n",
    "print(st_cell_by_epoch.shape)\n",
    "fig, ax = plt.subplots()\n",
    "\n",
    "epochs_to_plot = np.arange(0,9)\n",
    "ax.eventplot(st_cell_by_epoch[:,0], color = 'k', linewidths = 0.8, linelengths = 0.8)\n",
    "ax.set_xlabel(\"Time (ms)\")\n",
    "ax.set_ylabel(\"Epoch\")\n"
   ]
  }
 ],
 "metadata": {
  "kernelspec": {
   "display_name": "datajoint",
   "language": "python",
   "name": "python3"
  },
  "language_info": {
   "codemirror_mode": {
    "name": "ipython",
    "version": 3
   },
   "file_extension": ".py",
   "mimetype": "text/x-python",
   "name": "python",
   "nbconvert_exporter": "python",
   "pygments_lexer": "ipython3",
   "version": "3.9.16"
  }
 },
 "nbformat": 4,
 "nbformat_minor": 5
}
