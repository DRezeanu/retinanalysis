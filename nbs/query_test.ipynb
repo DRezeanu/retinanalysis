{
 "cells": [
  {
   "cell_type": "code",
   "execution_count": 1,
   "id": "199fe5e9",
   "metadata": {},
   "outputs": [
    {
     "name": "stderr",
     "output_type": "stream",
     "text": [
      "[2025-07-02 14:48:17,966][INFO]: Connecting root@127.0.0.1:3306\n",
      "[2025-07-02 14:48:18,081][INFO]: Connected root@127.0.0.1:3306\n"
     ]
    },
    {
     "data": {
      "text/plain": [
       "{'data': '/Volumes/data-1/data/sorted',\n",
       " 'analysis': '/Volumes/data-1/analysis',\n",
       " 'h5': '/Volumes/data-1/data/h5',\n",
       " 'meta': '/Volumes/data-1/datajoint_testbed/mea/meta',\n",
       " 'tags': '/Volumes/data-1/datajoint_testbed/mea/tags',\n",
       " 'user': 'vyomr'}"
      ]
     },
     "execution_count": 1,
     "metadata": {},
     "output_type": "execute_result"
    }
   ],
   "source": [
    "import retinanalysis as ra\n",
    "import pandas as pd\n",
    "import numpy as np\n",
    "# import xarray as xr\n",
    "ra.settings.mea_config\n",
    "# ra.database_pop.reload_celltypefiles()"
   ]
  },
  {
   "cell_type": "code",
   "execution_count": 8,
   "id": "be772b7a",
   "metadata": {},
   "outputs": [
    {
     "name": "stdout",
     "output_type": "stream",
     "text": [
      "Need to convert /Volumes/data-1/data/h5/20230706C.h5 to json\n",
      "going to implement this eventually\n",
      "Need to convert /Volumes/data-1/data/h5/2023-07-13.h5 to json\n",
      "going to implement this eventually\n",
      "Need to convert /Volumes/data-1/data/h5/20231003C_old.h5 to json\n",
      "going to implement this eventually\n",
      "Need to convert /Volumes/data-1/data/h5/test.h5 to json\n",
      "going to implement this eventually\n",
      "Need to convert /Volumes/data-1/data/h5/20240117C_old.h5 to json\n",
      "going to implement this eventually\n",
      "Need to convert /Volumes/data-1/data/h5/20240514C.h5 to json\n",
      "going to implement this eventually\n",
      "Need to convert /Volumes/data-1/data/h5/20220329C_mouse.h5 to json\n",
      "going to implement this eventually\n",
      "Need to convert /Volumes/data-1/data/h5/20220405C_mouse.h5 to json\n",
      "going to implement this eventually\n",
      "Need to convert /Volumes/data-1/data/h5/20240418C.h5 to json\n",
      "going to implement this eventually\n",
      "Need to convert /Volumes/data-1/data/h5/20240718C.h5 to json\n",
      "going to implement this eventually\n",
      "Need to convert /Volumes/data-1/data/h5/sawtooth_20241216C_calibrations.h5 to json\n",
      "going to implement this eventually\n",
      "Need to convert /Volumes/data-1/data/h5/sawtooth_20250122C_calibrations.h5 to json\n",
      "going to implement this eventually\n",
      "Need to convert /Volumes/data-1/data/h5/led_sine_calibration_20250207C.h5 to json\n",
      "going to implement this eventually\n",
      "Need to convert /Volumes/data-1/data/h5/led_sawtooth_calibrations_20250210C.h5 to json\n",
      "going to implement this eventually\n",
      "Need to convert /Volumes/data-1/data/h5/20250304C.h5 to json\n",
      "going to implement this eventually\n",
      "Need to convert /Volumes/data-1/data/h5/20250401C.h5 to json\n",
      "going to implement this eventually\n",
      "Need to convert /Volumes/data-1/data/h5/20250417C.h5 to json\n",
      "going to implement this eventually\n",
      "Need to convert /Volumes/data-1/data/h5/2025-04-29_E.h5 to json\n",
      "going to implement this eventually\n",
      "Need to convert /Volumes/data-1/data/h5/20250515C.h5 to json\n",
      "going to implement this eventually\n",
      "Need to convert /Volumes/data-1/data/h5/20250522C.h5 to json\n",
      "going to implement this eventually\n",
      "Need to convert /Volumes/data-1/data/h5/crf_calibrations_20250609C.h5 to json\n",
      "going to implement this eventually\n",
      "Need to convert /Volumes/data-1/data/h5/20250611H.h5 to json\n",
      "going to implement this eventually\n",
      "Need to convert /Volumes/data-1/data/h5/crf_calibrations_20250615C.h5 to json\n",
      "going to implement this eventually\n",
      "Need to convert /Volumes/data-1/data/h5/crf_calibrations_20250623C.h5 to json\n",
      "going to implement this eventually\n",
      "Could not find data directory for 20220405C.json\n"
     ]
    },
    {
     "name": "stderr",
     "output_type": "stream",
     "text": [
      " 60%|██████    | 77/128 [00:00<00:00, 296.01it/s]"
     ]
    },
    {
     "name": "stdout",
     "output_type": "stream",
     "text": [
      "Already in database: 20230406C\n",
      "Already in database: 20230614C\n",
      "Already in database: 20230629C\n",
      "Already in database: 20230713C\n",
      "Already in database: 20230719C\n",
      "Already in database: 20240418H\n",
      "Already in database: 20220406C\n",
      "Already in database: 20220412C\n",
      "Already in database: 20220420C\n",
      "Already in database: 20220426C\n",
      "Already in database: 20220518C\n",
      "Already in database: 20220526C\n",
      "Already in database: 20220531C\n",
      "Already in database: 20220607C\n",
      "Already in database: 20220705C\n",
      "Already in database: 20220712C\n",
      "Already in database: 20220726C\n",
      "Already in database: 20220809C\n",
      "Already in database: 20220816C\n",
      "Already in database: 20220818C\n",
      "Already in database: 20220823C\n",
      "Already in database: 20220829C\n",
      "Already in database: 20220909C\n",
      "Already in database: 20221006C\n",
      "Already in database: 20221024C\n",
      "Already in database: 20221101C\n",
      "Already in database: 20221114C\n",
      "Already in database: 20221117C\n",
      "Already in database: 20221123C\n",
      "Already in database: 20221216C\n",
      "Already in database: 20221219C\n",
      "Already in database: 20221228C\n",
      "Already in database: 20230105C\n",
      "Already in database: 20230109C\n",
      "Already in database: 20230111C\n",
      "Already in database: 20230202C\n",
      "Already in database: 20230207C\n",
      "Already in database: 20230214C\n",
      "Already in database: 20230221C\n",
      "Already in database: 20230228C\n",
      "Already in database: 20230313C\n",
      "Already in database: 20230314C\n",
      "Already in database: 20230320C\n",
      "Already in database: 20230322C\n",
      "Already in database: 20230324C\n",
      "Already in database: 20230328C\n",
      "Already in database: 20230329C\n",
      "Already in database: 20230411C\n",
      "Already in database: 20230418C\n",
      "Already in database: 20230502C\n",
      "Already in database: 20230511C\n",
      "Already in database: 20230516C\n",
      "Already in database: 20230517C\n",
      "Already in database: 20230523C\n",
      "Already in database: 20230524C\n",
      "Already in database: 20230525C\n",
      "Already in database: 20230530C\n",
      "Already in database: 20230607C\n",
      "Already in database: 20230613C\n",
      "Already in database: 20230621C\n",
      "Already in database: 20230622C\n",
      "Already in database: 20230725C\n",
      "Already in database: 20230802C\n",
      "Already in database: 20230808C\n",
      "Already in database: 20230825C\n",
      "Already in database: 20230829C\n",
      "Already in database: 20230926C\n",
      "Already in database: 20231003C\n",
      "Already in database: 20231011C\n",
      "Already in database: 20231026C\n",
      "Already in database: 20231108C\n",
      "Already in database: 20231129C\n",
      "Already in database: 20231220C\n",
      "Already in database: 20240117C\n",
      "Already in database: 20240130C\n",
      "Already in database: 20240201C\n",
      "Already in database: 20240213C\n"
     ]
    },
    {
     "name": "stderr",
     "output_type": "stream",
     "text": [
      " 91%|█████████▏| 117/128 [00:00<00:00, 335.36it/s]"
     ]
    },
    {
     "name": "stdout",
     "output_type": "stream",
     "text": [
      "Already in database: 20240215C\n",
      "Already in database: 20240229C\n",
      "Already in database: 20240319H\n",
      "Already in database: 20240326C\n",
      "Already in database: 20240328C\n",
      "Already in database: 20240328H\n",
      "Already in database: 20240401C\n",
      "Already in database: 20240401H\n",
      "Already in database: 20240409C\n",
      "Already in database: 20240424C\n",
      "Already in database: 20240424H\n",
      "Already in database: 20240523C\n",
      "Already in database: 20240606H\n",
      "Already in database: 20240611H\n",
      "Already in database: 20240618H\n",
      "Already in database: 20240620C\n",
      "Already in database: 20240627C\n",
      "Already in database: 20240627H\n",
      "Already in database: 20240717H\n",
      "Already in database: 20240717C\n",
      "Already in database: 20240718H\n",
      "Already in database: 20240801C\n",
      "Already in database: 20240806C\n",
      "Already in database: 20240806H\n",
      "Already in database: 20240813H\n",
      "Already in database: 20240813C\n",
      "Already in database: 20240820C\n",
      "Already in database: 20240926H\n",
      "Already in database: 20240926C\n",
      "Already in database: 20241010H\n",
      "Already in database: 20241016C\n",
      "Already in database: 20241121C\n",
      "Already in database: 20241121H\n",
      "Already in database: 20250121C\n",
      "Already in database: 20250128C\n",
      "Already in database: 20250131C\n",
      "Already in database: 20250212C\n",
      "Already in database: 20250219C\n",
      "Already in database: 20250219H\n",
      "Already in database: 20250304H\n",
      "Already in database: 20250306H\n",
      "Already in database: 20250306C\n",
      "Already in database: 20250307C\n",
      "Already in database: 20250321C\n",
      "Adding /Volumes/data-1/datajoint_testbed/mea/meta/20250429C.json\n",
      "Adding analysis for experiment 136, 20250429C\n",
      "Looking in /Volumes/data-1/data/sorted/20250429C\n"
     ]
    },
    {
     "name": "stderr",
     "output_type": "stream",
     "text": [
      " 95%|█████████▌| 122/128 [00:59<00:05,  1.12it/s] "
     ]
    },
    {
     "name": "stdout",
     "output_type": "stream",
     "text": [
      "Adding /Volumes/data-1/datajoint_testbed/mea/meta/20250429H.json\n",
      "Adding analysis for experiment 137, 20250429H\n",
      "Could not find data directory for experiment 20250429H\n"
     ]
    },
    {
     "name": "stderr",
     "output_type": "stream",
     "text": [
      " 96%|█████████▌| 123/128 [01:48<00:09,  1.94s/it]"
     ]
    },
    {
     "name": "stdout",
     "output_type": "stream",
     "text": [
      "Adding /Volumes/data-1/datajoint_testbed/mea/meta/20250514C.json\n",
      "Adding analysis for experiment 138, 20250514C\n",
      "Looking in /Volumes/data-1/data/sorted/20250514C\n",
      "ERROR: could not find a chunk for this data directory: 20250514C/data013\n"
     ]
    },
    {
     "name": "stderr",
     "output_type": "stream",
     "text": [
      " 97%|█████████▋| 124/128 [03:01<00:16,  4.02s/it]"
     ]
    },
    {
     "name": "stdout",
     "output_type": "stream",
     "text": [
      "Adding /Volumes/data-1/datajoint_testbed/mea/meta/20250527C.json\n",
      "Adding analysis for experiment 139, 20250527C\n",
      "Looking in /Volumes/data-1/data/sorted/20250527C\n"
     ]
    },
    {
     "name": "stderr",
     "output_type": "stream",
     "text": [
      " 98%|█████████▊| 125/128 [03:39<00:16,  5.40s/it]"
     ]
    },
    {
     "name": "stdout",
     "output_type": "stream",
     "text": [
      "Adding /Volumes/data-1/datajoint_testbed/mea/meta/20250529C.json\n",
      "Adding analysis for experiment 140, 20250529C\n",
      "Looking in /Volumes/data-1/data/sorted/20250529C\n"
     ]
    },
    {
     "name": "stderr",
     "output_type": "stream",
     "text": [
      " 98%|█████████▊| 126/128 [04:28<00:15,  7.77s/it]"
     ]
    },
    {
     "name": "stdout",
     "output_type": "stream",
     "text": [
      "Adding /Volumes/data-1/datajoint_testbed/mea/meta/20250530C.json\n",
      "Adding analysis for experiment 141, 20250530C\n",
      "Looking in /Volumes/data-1/data/sorted/20250530C\n"
     ]
    },
    {
     "name": "stderr",
     "output_type": "stream",
     "text": [
      " 99%|█████████▉| 127/128 [04:50<00:08,  8.81s/it]"
     ]
    },
    {
     "name": "stdout",
     "output_type": "stream",
     "text": [
      "Adding /Volumes/data-1/datajoint_testbed/mea/meta/20250626H.json\n",
      "Adding analysis for experiment 142, 20250626H\n",
      "Looking in /Volumes/data-1/data/sorted/20250626H\n"
     ]
    },
    {
     "name": "stderr",
     "output_type": "stream",
     "text": [
      "100%|██████████| 128/128 [31:52<00:00, 14.94s/it] \n"
     ]
    }
   ],
   "source": [
    "ra.database_utils.populate_database()"
   ]
  },
  {
   "cell_type": "code",
   "execution_count": 10,
   "id": "917411f9",
   "metadata": {},
   "outputs": [
    {
     "name": "stdout",
     "output_type": "stream",
     "text": [
      "\n",
      "Found 1 protocols matching \"matfiles\":\n",
      "['edu.washington.riekelab.protocols.PresentMatFiles']\n",
      "\n",
      "Found 1 experiments, 1 epoch blocks.\n",
      "\n"
     ]
    },
    {
     "data": {
      "text/html": [
       "<div>\n",
       "<style scoped>\n",
       "    .dataframe tbody tr th:only-of-type {\n",
       "        vertical-align: middle;\n",
       "    }\n",
       "\n",
       "    .dataframe tbody tr th {\n",
       "        vertical-align: top;\n",
       "    }\n",
       "\n",
       "    .dataframe thead th {\n",
       "        text-align: right;\n",
       "    }\n",
       "</style>\n",
       "<table border=\"1\" class=\"dataframe\">\n",
       "  <thead>\n",
       "    <tr style=\"text-align: right;\">\n",
       "      <th></th>\n",
       "      <th>exp_name</th>\n",
       "      <th>datafile_name</th>\n",
       "      <th>NDF</th>\n",
       "      <th>chunk_name</th>\n",
       "      <th>protocol_name</th>\n",
       "      <th>is_mea</th>\n",
       "      <th>data_dir</th>\n",
       "      <th>group_label</th>\n",
       "      <th>experiment_id</th>\n",
       "      <th>protocol_id</th>\n",
       "      <th>group_id</th>\n",
       "      <th>block_id</th>\n",
       "      <th>chunk_id</th>\n",
       "    </tr>\n",
       "  </thead>\n",
       "  <tbody>\n",
       "    <tr>\n",
       "      <th>0</th>\n",
       "      <td>20250514C</td>\n",
       "      <td>data003</td>\n",
       "      <td>0.5</td>\n",
       "      <td>movies_images</td>\n",
       "      <td>edu.washington.riekelab.protocols.PresentMatFiles</td>\n",
       "      <td>1</td>\n",
       "      <td>20250514C/data003</td>\n",
       "      <td>PresentMatFiles</td>\n",
       "      <td>138</td>\n",
       "      <td>77</td>\n",
       "      <td>2440</td>\n",
       "      <td>3662</td>\n",
       "      <td>502</td>\n",
       "    </tr>\n",
       "  </tbody>\n",
       "</table>\n",
       "</div>"
      ],
      "text/plain": [
       "    exp_name datafile_name  NDF     chunk_name  \\\n",
       "0  20250514C       data003  0.5  movies_images   \n",
       "\n",
       "                                       protocol_name  is_mea  \\\n",
       "0  edu.washington.riekelab.protocols.PresentMatFiles       1   \n",
       "\n",
       "            data_dir      group_label  experiment_id  protocol_id  group_id  \\\n",
       "0  20250514C/data003  PresentMatFiles            138           77      2440   \n",
       "\n",
       "   block_id  chunk_id  \n",
       "0      3662       502  "
      ]
     },
     "execution_count": 10,
     "metadata": {},
     "output_type": "execute_result"
    }
   ],
   "source": [
    "df = ra.get_datasets_from_protocol_names('matfiles')\n",
    "df.tail()"
   ]
  },
  {
   "cell_type": "code",
   "execution_count": null,
   "id": "9c73db82",
   "metadata": {},
   "outputs": [],
   "source": [
    "ra.Epoch"
   ]
  },
  {
   "cell_type": "code",
   "execution_count": 6,
   "id": "2d7133f8",
   "metadata": {},
   "outputs": [],
   "source": [
    "# import sys\n",
    "# sys.path.append('/Users/riekelabbackup/Desktop/Vyom/RetinAnalysis/src/retinanalysis/')\n",
    "# import response\n",
    "# import importlib\n",
    "# importlib.reload(response)"
   ]
  },
  {
   "cell_type": "code",
   "execution_count": null,
   "id": "1a011cff",
   "metadata": {},
   "outputs": [
    {
     "name": "stdout",
     "output_type": "stream",
     "text": [
      "Loading VCD from /Volumes/data-1/analysis/20250514C/chunk1/kilosort2.5 ...\n",
      "VCD loaded with 781 cells.\n"
     ]
    }
   ],
   "source": [
    "idxs = [0]\n",
    "s1 = ra.StimBlock(df.at[idxs[0], 'exp_name'], df.at[idxs[0], 'datafile_name'])\n",
    "r1 = response.ResponseBlock(df.at[idxs[0], 'exp_name'], df.at[idxs[0], 'datafile_name'])\n",
    "ac1 = ra.AnalysisChunk(df.at[idxs[0], 'exp_name'], s1.nearest_noise_chunk)\n",
    "\n",
    "# pp = ra.MEAPipeline(s1, r1, ac1)\n",
    "# qc1 = ra.qc.MEAQC(pp.response_block, ac1, pp.match_dict)"
   ]
  },
  {
   "cell_type": "code",
   "execution_count": 10,
   "id": "6349fc20",
   "metadata": {},
   "outputs": [
    {
     "name": "stderr",
     "output_type": "stream",
     "text": [
      "Binning spikes for cells: 100%|██████████| 1104/1104 [00:13<00:00, 84.10it/s]\n"
     ]
    },
    {
     "name": "stdout",
     "output_type": "stream",
     "text": [
      "Mean frame rate: 59.95 Hz\n"
     ]
    }
   ],
   "source": [
    "r1.bin_spike_times_by_frames()"
   ]
  },
  {
   "cell_type": "code",
   "execution_count": 11,
   "id": "095bc0e9",
   "metadata": {},
   "outputs": [
    {
     "data": {
      "text/plain": [
       "(59.94154881781792, 59.948032665181884)"
      ]
     },
     "execution_count": 11,
     "metadata": {},
     "output_type": "execute_result"
    }
   ],
   "source": [
    "r1.bin_rate, r1.mean_frame_rate"
   ]
  },
  {
   "cell_type": "code",
   "execution_count": 13,
   "id": "0ddf5d23",
   "metadata": {},
   "outputs": [
    {
     "data": {
      "text/plain": [
       "(1104, 102, 330)"
      ]
     },
     "execution_count": 13,
     "metadata": {},
     "output_type": "execute_result"
    }
   ],
   "source": [
    "r1.binned_spikes.shape"
   ]
  },
  {
   "cell_type": "code",
   "execution_count": 14,
   "id": "e2ea40a7",
   "metadata": {},
   "outputs": [
    {
     "data": {
      "text/html": [
       "<div>\n",
       "<style scoped>\n",
       "    .dataframe tbody tr th:only-of-type {\n",
       "        vertical-align: middle;\n",
       "    }\n",
       "\n",
       "    .dataframe tbody tr th {\n",
       "        vertical-align: top;\n",
       "    }\n",
       "\n",
       "    .dataframe thead th {\n",
       "        text-align: right;\n",
       "    }\n",
       "</style>\n",
       "<table border=\"1\" class=\"dataframe\">\n",
       "  <thead>\n",
       "    <tr style=\"text-align: right;\">\n",
       "      <th></th>\n",
       "      <th>barWidthPix</th>\n",
       "      <th>contrast</th>\n",
       "      <th>temporalFrequency</th>\n",
       "      <th>spatialFreq</th>\n",
       "      <th>barWidth</th>\n",
       "      <th>exp_name</th>\n",
       "      <th>datafile_name</th>\n",
       "      <th>group_label</th>\n",
       "      <th>protocol_name</th>\n",
       "      <th>frame_times_ms</th>\n",
       "      <th>epoch_parameters</th>\n",
       "      <th>data_dir</th>\n",
       "      <th>preTime</th>\n",
       "      <th>stimTime</th>\n",
       "      <th>tailTime</th>\n",
       "      <th>experiment_id</th>\n",
       "      <th>group_id</th>\n",
       "      <th>block_id</th>\n",
       "      <th>protocol_id</th>\n",
       "      <th>epoch_id</th>\n",
       "    </tr>\n",
       "    <tr>\n",
       "      <th>epoch_index</th>\n",
       "      <th></th>\n",
       "      <th></th>\n",
       "      <th></th>\n",
       "      <th></th>\n",
       "      <th></th>\n",
       "      <th></th>\n",
       "      <th></th>\n",
       "      <th></th>\n",
       "      <th></th>\n",
       "      <th></th>\n",
       "      <th></th>\n",
       "      <th></th>\n",
       "      <th></th>\n",
       "      <th></th>\n",
       "      <th></th>\n",
       "      <th></th>\n",
       "      <th></th>\n",
       "      <th></th>\n",
       "      <th></th>\n",
       "      <th></th>\n",
       "    </tr>\n",
       "  </thead>\n",
       "  <tbody>\n",
       "    <tr>\n",
       "      <th>0</th>\n",
       "      <td>6</td>\n",
       "      <td>0.45</td>\n",
       "      <td>1</td>\n",
       "      <td>95.00000</td>\n",
       "      <td>20</td>\n",
       "      <td>20250307C</td>\n",
       "      <td>data032</td>\n",
       "      <td>CRF Grid Pattern Mode 15min</td>\n",
       "      <td>edu.washington.riekelab.vyom.protocols.Contras...</td>\n",
       "      <td>[0, 17, 34, 50, 67, 84, 100, 117, 134, 150, 16...</td>\n",
       "      <td>{'NDF': 0.5, 'amp': 'Amp1', 'ndfs': '[]', 'pre...</td>\n",
       "      <td>20250307C/data032</td>\n",
       "      <td>250</td>\n",
       "      <td>5000</td>\n",
       "      <td>250</td>\n",
       "      <td>124</td>\n",
       "      <td>2259</td>\n",
       "      <td>3403</td>\n",
       "      <td>73</td>\n",
       "      <td>234949</td>\n",
       "    </tr>\n",
       "    <tr>\n",
       "      <th>1</th>\n",
       "      <td>6</td>\n",
       "      <td>1.00</td>\n",
       "      <td>1</td>\n",
       "      <td>95.00000</td>\n",
       "      <td>20</td>\n",
       "      <td>20250307C</td>\n",
       "      <td>data032</td>\n",
       "      <td>CRF Grid Pattern Mode 15min</td>\n",
       "      <td>edu.washington.riekelab.vyom.protocols.Contras...</td>\n",
       "      <td>[0, 17, 34, 50, 67, 84, 100, 117, 134, 150, 16...</td>\n",
       "      <td>{'NDF': 0.5, 'amp': 'Amp1', 'ndfs': '[]', 'pre...</td>\n",
       "      <td>20250307C/data032</td>\n",
       "      <td>250</td>\n",
       "      <td>5000</td>\n",
       "      <td>250</td>\n",
       "      <td>124</td>\n",
       "      <td>2259</td>\n",
       "      <td>3403</td>\n",
       "      <td>73</td>\n",
       "      <td>234950</td>\n",
       "    </tr>\n",
       "    <tr>\n",
       "      <th>2</th>\n",
       "      <td>6</td>\n",
       "      <td>0.45</td>\n",
       "      <td>3</td>\n",
       "      <td>95.00000</td>\n",
       "      <td>20</td>\n",
       "      <td>20250307C</td>\n",
       "      <td>data032</td>\n",
       "      <td>CRF Grid Pattern Mode 15min</td>\n",
       "      <td>edu.washington.riekelab.vyom.protocols.Contras...</td>\n",
       "      <td>[0, 17, 34, 50, 67, 84, 100, 117, 134, 150, 16...</td>\n",
       "      <td>{'NDF': 0.5, 'amp': 'Amp1', 'ndfs': '[]', 'pre...</td>\n",
       "      <td>20250307C/data032</td>\n",
       "      <td>250</td>\n",
       "      <td>5000</td>\n",
       "      <td>250</td>\n",
       "      <td>124</td>\n",
       "      <td>2259</td>\n",
       "      <td>3403</td>\n",
       "      <td>73</td>\n",
       "      <td>234951</td>\n",
       "    </tr>\n",
       "    <tr>\n",
       "      <th>3</th>\n",
       "      <td>6</td>\n",
       "      <td>1.00</td>\n",
       "      <td>3</td>\n",
       "      <td>95.00000</td>\n",
       "      <td>20</td>\n",
       "      <td>20250307C</td>\n",
       "      <td>data032</td>\n",
       "      <td>CRF Grid Pattern Mode 15min</td>\n",
       "      <td>edu.washington.riekelab.vyom.protocols.Contras...</td>\n",
       "      <td>[0, 17, 34, 50, 67, 84, 100, 117, 134, 150, 16...</td>\n",
       "      <td>{'NDF': 0.5, 'amp': 'Amp1', 'ndfs': '[]', 'pre...</td>\n",
       "      <td>20250307C/data032</td>\n",
       "      <td>250</td>\n",
       "      <td>5000</td>\n",
       "      <td>250</td>\n",
       "      <td>124</td>\n",
       "      <td>2259</td>\n",
       "      <td>3403</td>\n",
       "      <td>73</td>\n",
       "      <td>234952</td>\n",
       "    </tr>\n",
       "    <tr>\n",
       "      <th>4</th>\n",
       "      <td>6</td>\n",
       "      <td>0.45</td>\n",
       "      <td>9</td>\n",
       "      <td>95.00000</td>\n",
       "      <td>20</td>\n",
       "      <td>20250307C</td>\n",
       "      <td>data032</td>\n",
       "      <td>CRF Grid Pattern Mode 15min</td>\n",
       "      <td>edu.washington.riekelab.vyom.protocols.Contras...</td>\n",
       "      <td>[0, 17, 34, 50, 67, 84, 100, 117, 134, 150, 16...</td>\n",
       "      <td>{'NDF': 0.5, 'amp': 'Amp1', 'ndfs': '[]', 'pre...</td>\n",
       "      <td>20250307C/data032</td>\n",
       "      <td>250</td>\n",
       "      <td>5000</td>\n",
       "      <td>250</td>\n",
       "      <td>124</td>\n",
       "      <td>2259</td>\n",
       "      <td>3403</td>\n",
       "      <td>73</td>\n",
       "      <td>234953</td>\n",
       "    </tr>\n",
       "    <tr>\n",
       "      <th>...</th>\n",
       "      <td>...</td>\n",
       "      <td>...</td>\n",
       "      <td>...</td>\n",
       "      <td>...</td>\n",
       "      <td>...</td>\n",
       "      <td>...</td>\n",
       "      <td>...</td>\n",
       "      <td>...</td>\n",
       "      <td>...</td>\n",
       "      <td>...</td>\n",
       "      <td>...</td>\n",
       "      <td>...</td>\n",
       "      <td>...</td>\n",
       "      <td>...</td>\n",
       "      <td>...</td>\n",
       "      <td>...</td>\n",
       "      <td>...</td>\n",
       "      <td>...</td>\n",
       "      <td>...</td>\n",
       "      <td>...</td>\n",
       "    </tr>\n",
       "    <tr>\n",
       "      <th>97</th>\n",
       "      <td>47</td>\n",
       "      <td>0.45</td>\n",
       "      <td>9</td>\n",
       "      <td>12.12766</td>\n",
       "      <td>160</td>\n",
       "      <td>20250307C</td>\n",
       "      <td>data032</td>\n",
       "      <td>CRF Grid Pattern Mode 15min</td>\n",
       "      <td>edu.washington.riekelab.vyom.protocols.Contras...</td>\n",
       "      <td>[0, 17, 34, 50, 67, 84, 100, 117, 134, 150, 16...</td>\n",
       "      <td>{'NDF': 0.5, 'amp': 'Amp1', 'ndfs': '[]', 'pre...</td>\n",
       "      <td>20250307C/data032</td>\n",
       "      <td>250</td>\n",
       "      <td>5000</td>\n",
       "      <td>250</td>\n",
       "      <td>124</td>\n",
       "      <td>2259</td>\n",
       "      <td>3403</td>\n",
       "      <td>73</td>\n",
       "      <td>235046</td>\n",
       "    </tr>\n",
       "    <tr>\n",
       "      <th>98</th>\n",
       "      <td>47</td>\n",
       "      <td>1.00</td>\n",
       "      <td>9</td>\n",
       "      <td>12.12766</td>\n",
       "      <td>160</td>\n",
       "      <td>20250307C</td>\n",
       "      <td>data032</td>\n",
       "      <td>CRF Grid Pattern Mode 15min</td>\n",
       "      <td>edu.washington.riekelab.vyom.protocols.Contras...</td>\n",
       "      <td>[0, 17, 34, 50, 67, 84, 100, 117, 134, 150, 16...</td>\n",
       "      <td>{'NDF': 0.5, 'amp': 'Amp1', 'ndfs': '[]', 'pre...</td>\n",
       "      <td>20250307C/data032</td>\n",
       "      <td>250</td>\n",
       "      <td>5000</td>\n",
       "      <td>250</td>\n",
       "      <td>124</td>\n",
       "      <td>2259</td>\n",
       "      <td>3403</td>\n",
       "      <td>73</td>\n",
       "      <td>235047</td>\n",
       "    </tr>\n",
       "    <tr>\n",
       "      <th>99</th>\n",
       "      <td>47</td>\n",
       "      <td>0.45</td>\n",
       "      <td>27</td>\n",
       "      <td>12.12766</td>\n",
       "      <td>160</td>\n",
       "      <td>20250307C</td>\n",
       "      <td>data032</td>\n",
       "      <td>CRF Grid Pattern Mode 15min</td>\n",
       "      <td>edu.washington.riekelab.vyom.protocols.Contras...</td>\n",
       "      <td>[0, 17, 34, 50, 67, 84, 100, 117, 134, 150, 16...</td>\n",
       "      <td>{'NDF': 0.5, 'amp': 'Amp1', 'ndfs': '[]', 'pre...</td>\n",
       "      <td>20250307C/data032</td>\n",
       "      <td>250</td>\n",
       "      <td>5000</td>\n",
       "      <td>250</td>\n",
       "      <td>124</td>\n",
       "      <td>2259</td>\n",
       "      <td>3403</td>\n",
       "      <td>73</td>\n",
       "      <td>235048</td>\n",
       "    </tr>\n",
       "    <tr>\n",
       "      <th>100</th>\n",
       "      <td>47</td>\n",
       "      <td>1.00</td>\n",
       "      <td>27</td>\n",
       "      <td>12.12766</td>\n",
       "      <td>160</td>\n",
       "      <td>20250307C</td>\n",
       "      <td>data032</td>\n",
       "      <td>CRF Grid Pattern Mode 15min</td>\n",
       "      <td>edu.washington.riekelab.vyom.protocols.Contras...</td>\n",
       "      <td>[0, 17, 34, 50, 67, 84, 100, 117, 134, 150, 16...</td>\n",
       "      <td>{'NDF': 0.5, 'amp': 'Amp1', 'ndfs': '[]', 'pre...</td>\n",
       "      <td>20250307C/data032</td>\n",
       "      <td>250</td>\n",
       "      <td>5000</td>\n",
       "      <td>250</td>\n",
       "      <td>124</td>\n",
       "      <td>2259</td>\n",
       "      <td>3403</td>\n",
       "      <td>73</td>\n",
       "      <td>235049</td>\n",
       "    </tr>\n",
       "    <tr>\n",
       "      <th>101</th>\n",
       "      <td>47</td>\n",
       "      <td>1.00</td>\n",
       "      <td>81</td>\n",
       "      <td>12.12766</td>\n",
       "      <td>160</td>\n",
       "      <td>20250307C</td>\n",
       "      <td>data032</td>\n",
       "      <td>CRF Grid Pattern Mode 15min</td>\n",
       "      <td>edu.washington.riekelab.vyom.protocols.Contras...</td>\n",
       "      <td>[0, 17, 34, 50, 67, 84, 100, 117, 134, 150, 16...</td>\n",
       "      <td>{'NDF': 0.5, 'amp': 'Amp1', 'ndfs': '[]', 'pre...</td>\n",
       "      <td>20250307C/data032</td>\n",
       "      <td>250</td>\n",
       "      <td>5000</td>\n",
       "      <td>250</td>\n",
       "      <td>124</td>\n",
       "      <td>2259</td>\n",
       "      <td>3403</td>\n",
       "      <td>73</td>\n",
       "      <td>235050</td>\n",
       "    </tr>\n",
       "  </tbody>\n",
       "</table>\n",
       "<p>102 rows × 20 columns</p>\n",
       "</div>"
      ],
      "text/plain": [
       "             barWidthPix  contrast  temporalFrequency  spatialFreq  barWidth  \\\n",
       "epoch_index                                                                    \n",
       "0                      6      0.45                  1     95.00000        20   \n",
       "1                      6      1.00                  1     95.00000        20   \n",
       "2                      6      0.45                  3     95.00000        20   \n",
       "3                      6      1.00                  3     95.00000        20   \n",
       "4                      6      0.45                  9     95.00000        20   \n",
       "...                  ...       ...                ...          ...       ...   \n",
       "97                    47      0.45                  9     12.12766       160   \n",
       "98                    47      1.00                  9     12.12766       160   \n",
       "99                    47      0.45                 27     12.12766       160   \n",
       "100                   47      1.00                 27     12.12766       160   \n",
       "101                   47      1.00                 81     12.12766       160   \n",
       "\n",
       "              exp_name datafile_name                  group_label  \\\n",
       "epoch_index                                                         \n",
       "0            20250307C       data032  CRF Grid Pattern Mode 15min   \n",
       "1            20250307C       data032  CRF Grid Pattern Mode 15min   \n",
       "2            20250307C       data032  CRF Grid Pattern Mode 15min   \n",
       "3            20250307C       data032  CRF Grid Pattern Mode 15min   \n",
       "4            20250307C       data032  CRF Grid Pattern Mode 15min   \n",
       "...                ...           ...                          ...   \n",
       "97           20250307C       data032  CRF Grid Pattern Mode 15min   \n",
       "98           20250307C       data032  CRF Grid Pattern Mode 15min   \n",
       "99           20250307C       data032  CRF Grid Pattern Mode 15min   \n",
       "100          20250307C       data032  CRF Grid Pattern Mode 15min   \n",
       "101          20250307C       data032  CRF Grid Pattern Mode 15min   \n",
       "\n",
       "                                                 protocol_name  \\\n",
       "epoch_index                                                      \n",
       "0            edu.washington.riekelab.vyom.protocols.Contras...   \n",
       "1            edu.washington.riekelab.vyom.protocols.Contras...   \n",
       "2            edu.washington.riekelab.vyom.protocols.Contras...   \n",
       "3            edu.washington.riekelab.vyom.protocols.Contras...   \n",
       "4            edu.washington.riekelab.vyom.protocols.Contras...   \n",
       "...                                                        ...   \n",
       "97           edu.washington.riekelab.vyom.protocols.Contras...   \n",
       "98           edu.washington.riekelab.vyom.protocols.Contras...   \n",
       "99           edu.washington.riekelab.vyom.protocols.Contras...   \n",
       "100          edu.washington.riekelab.vyom.protocols.Contras...   \n",
       "101          edu.washington.riekelab.vyom.protocols.Contras...   \n",
       "\n",
       "                                                frame_times_ms  \\\n",
       "epoch_index                                                      \n",
       "0            [0, 17, 34, 50, 67, 84, 100, 117, 134, 150, 16...   \n",
       "1            [0, 17, 34, 50, 67, 84, 100, 117, 134, 150, 16...   \n",
       "2            [0, 17, 34, 50, 67, 84, 100, 117, 134, 150, 16...   \n",
       "3            [0, 17, 34, 50, 67, 84, 100, 117, 134, 150, 16...   \n",
       "4            [0, 17, 34, 50, 67, 84, 100, 117, 134, 150, 16...   \n",
       "...                                                        ...   \n",
       "97           [0, 17, 34, 50, 67, 84, 100, 117, 134, 150, 16...   \n",
       "98           [0, 17, 34, 50, 67, 84, 100, 117, 134, 150, 16...   \n",
       "99           [0, 17, 34, 50, 67, 84, 100, 117, 134, 150, 16...   \n",
       "100          [0, 17, 34, 50, 67, 84, 100, 117, 134, 150, 16...   \n",
       "101          [0, 17, 34, 50, 67, 84, 100, 117, 134, 150, 16...   \n",
       "\n",
       "                                              epoch_parameters  \\\n",
       "epoch_index                                                      \n",
       "0            {'NDF': 0.5, 'amp': 'Amp1', 'ndfs': '[]', 'pre...   \n",
       "1            {'NDF': 0.5, 'amp': 'Amp1', 'ndfs': '[]', 'pre...   \n",
       "2            {'NDF': 0.5, 'amp': 'Amp1', 'ndfs': '[]', 'pre...   \n",
       "3            {'NDF': 0.5, 'amp': 'Amp1', 'ndfs': '[]', 'pre...   \n",
       "4            {'NDF': 0.5, 'amp': 'Amp1', 'ndfs': '[]', 'pre...   \n",
       "...                                                        ...   \n",
       "97           {'NDF': 0.5, 'amp': 'Amp1', 'ndfs': '[]', 'pre...   \n",
       "98           {'NDF': 0.5, 'amp': 'Amp1', 'ndfs': '[]', 'pre...   \n",
       "99           {'NDF': 0.5, 'amp': 'Amp1', 'ndfs': '[]', 'pre...   \n",
       "100          {'NDF': 0.5, 'amp': 'Amp1', 'ndfs': '[]', 'pre...   \n",
       "101          {'NDF': 0.5, 'amp': 'Amp1', 'ndfs': '[]', 'pre...   \n",
       "\n",
       "                      data_dir  preTime  stimTime  tailTime  experiment_id  \\\n",
       "epoch_index                                                                  \n",
       "0            20250307C/data032      250      5000       250            124   \n",
       "1            20250307C/data032      250      5000       250            124   \n",
       "2            20250307C/data032      250      5000       250            124   \n",
       "3            20250307C/data032      250      5000       250            124   \n",
       "4            20250307C/data032      250      5000       250            124   \n",
       "...                        ...      ...       ...       ...            ...   \n",
       "97           20250307C/data032      250      5000       250            124   \n",
       "98           20250307C/data032      250      5000       250            124   \n",
       "99           20250307C/data032      250      5000       250            124   \n",
       "100          20250307C/data032      250      5000       250            124   \n",
       "101          20250307C/data032      250      5000       250            124   \n",
       "\n",
       "             group_id  block_id  protocol_id  epoch_id  \n",
       "epoch_index                                             \n",
       "0                2259      3403           73    234949  \n",
       "1                2259      3403           73    234950  \n",
       "2                2259      3403           73    234951  \n",
       "3                2259      3403           73    234952  \n",
       "4                2259      3403           73    234953  \n",
       "...               ...       ...          ...       ...  \n",
       "97               2259      3403           73    235046  \n",
       "98               2259      3403           73    235047  \n",
       "99               2259      3403           73    235048  \n",
       "100              2259      3403           73    235049  \n",
       "101              2259      3403           73    235050  \n",
       "\n",
       "[102 rows x 20 columns]"
      ]
     },
     "execution_count": 14,
     "metadata": {},
     "output_type": "execute_result"
    }
   ],
   "source": [
    "s1.df_epochs"
   ]
  },
  {
   "cell_type": "code",
   "execution_count": 15,
   "id": "e40a874a",
   "metadata": {},
   "outputs": [
    {
     "data": {
      "text/html": [
       "<div>\n",
       "<style scoped>\n",
       "    .dataframe tbody tr th:only-of-type {\n",
       "        vertical-align: middle;\n",
       "    }\n",
       "\n",
       "    .dataframe tbody tr th {\n",
       "        vertical-align: top;\n",
       "    }\n",
       "\n",
       "    .dataframe thead th {\n",
       "        text-align: right;\n",
       "    }\n",
       "</style>\n",
       "<table border=\"1\" class=\"dataframe\">\n",
       "  <thead>\n",
       "    <tr style=\"text-align: right;\">\n",
       "      <th></th>\n",
       "      <th>spike_times</th>\n",
       "      <th>binned_spikes</th>\n",
       "    </tr>\n",
       "    <tr>\n",
       "      <th>cell_id</th>\n",
       "      <th></th>\n",
       "      <th></th>\n",
       "    </tr>\n",
       "  </thead>\n",
       "  <tbody>\n",
       "    <tr>\n",
       "      <th>1</th>\n",
       "      <td>[[87.9, 123.5, 534.15, 1482.75, 1511.7, 1520.6...</td>\n",
       "      <td>[[0.0, 0.0, 0.0, 0.0, 0.0, 1.0, 0.0, 1.0, 0.0,...</td>\n",
       "    </tr>\n",
       "    <tr>\n",
       "      <th>129</th>\n",
       "      <td>[[145.1, 164.89999999999998, 245.5, 1470.1, 23...</td>\n",
       "      <td>[[0.0, 0.0, 0.0, 0.0, 0.0, 0.0, 0.0, 0.0, 1.0,...</td>\n",
       "    </tr>\n",
       "    <tr>\n",
       "      <th>130</th>\n",
       "      <td>[[157.25, 177.55, 228.5, 2079.45, 2133.15, 219...</td>\n",
       "      <td>[[0.0, 0.0, 0.0, 0.0, 0.0, 0.0, 0.0, 0.0, 0.0,...</td>\n",
       "    </tr>\n",
       "    <tr>\n",
       "      <th>3</th>\n",
       "      <td>[[], [], [], [], [], [], [], [], [], [], [], [...</td>\n",
       "      <td>[[0.0, 0.0, 0.0, 0.0, 0.0, 0.0, 0.0, 0.0, 0.0,...</td>\n",
       "    </tr>\n",
       "    <tr>\n",
       "      <th>131</th>\n",
       "      <td>[[76.75, 2169.6499999999996, 2794.049999999999...</td>\n",
       "      <td>[[0.0, 0.0, 0.0, 0.0, 1.0, 0.0, 0.0, 0.0, 0.0,...</td>\n",
       "    </tr>\n",
       "  </tbody>\n",
       "</table>\n",
       "</div>"
      ],
      "text/plain": [
       "                                               spike_times  \\\n",
       "cell_id                                                      \n",
       "1        [[87.9, 123.5, 534.15, 1482.75, 1511.7, 1520.6...   \n",
       "129      [[145.1, 164.89999999999998, 245.5, 1470.1, 23...   \n",
       "130      [[157.25, 177.55, 228.5, 2079.45, 2133.15, 219...   \n",
       "3        [[], [], [], [], [], [], [], [], [], [], [], [...   \n",
       "131      [[76.75, 2169.6499999999996, 2794.049999999999...   \n",
       "\n",
       "                                             binned_spikes  \n",
       "cell_id                                                     \n",
       "1        [[0.0, 0.0, 0.0, 0.0, 0.0, 1.0, 0.0, 1.0, 0.0,...  \n",
       "129      [[0.0, 0.0, 0.0, 0.0, 0.0, 0.0, 0.0, 0.0, 1.0,...  \n",
       "130      [[0.0, 0.0, 0.0, 0.0, 0.0, 0.0, 0.0, 0.0, 0.0,...  \n",
       "3        [[0.0, 0.0, 0.0, 0.0, 0.0, 0.0, 0.0, 0.0, 0.0,...  \n",
       "131      [[0.0, 0.0, 0.0, 0.0, 1.0, 0.0, 0.0, 0.0, 0.0,...  "
      ]
     },
     "execution_count": 15,
     "metadata": {},
     "output_type": "execute_result"
    }
   ],
   "source": [
    "r1.df_spike_times.head()"
   ]
  },
  {
   "cell_type": "code",
   "execution_count": 18,
   "id": "011f6b56",
   "metadata": {},
   "outputs": [
    {
     "data": {
      "text/plain": [
       "[<matplotlib.lines.Line2D at 0x16cb6cb80>]"
      ]
     },
     "execution_count": 18,
     "metadata": {},
     "output_type": "execute_result"
    },
    {
     "data": {
      "image/png": "[encoded data removed]",
      "text/plain": [
       "<Figure size 640x480 with 1 Axes>"
      ]
     },
     "metadata": {},
     "output_type": "display_data"
    }
   ],
   "source": [
    "import matplotlib.pyplot as plt\n",
    "cell_idx = 12\n",
    "cell_id = r1.df_spike_times.index[cell_idx]\n",
    "sts = r1.df_spike_times.loc[cell_id, 'spike_times']\n",
    "# for i in range(r1.n_epochs):\n",
    "    # plt.eventplot(sts[i], lineoffsets=i, linelengths=0.5, colors='black')\n",
    "i = 0\n",
    "plt.eventplot(sts[i], lineoffsets=i, linelengths=0.5, colors='black')\n",
    "plt.plot(r1.binned_time, r1.binned_spikes[cell_idx, i])"
   ]
  },
  {
   "cell_type": "code",
   "execution_count": 76,
   "id": "c1e0bd9f",
   "metadata": {},
   "outputs": [
    {
     "data": {
      "text/plain": [
       "array([[nan, nan],\n",
       "       [nan,  1.]])"
      ]
     },
     "execution_count": 76,
     "metadata": {},
     "output_type": "execute_result"
    }
   ],
   "source": [
    "np.corrcoef([np.nan, 1, 4], [0, 3, 6])"
   ]
  },
  {
   "cell_type": "code",
   "execution_count": 2,
   "id": "505391eb",
   "metadata": {},
   "outputs": [
    {
     "ename": "NameError",
     "evalue": "name 'sys' is not defined",
     "output_type": "error",
     "traceback": [
      "\u001b[0;31m---------------------------------------------------------------------------\u001b[0m",
      "\u001b[0;31mNameError\u001b[0m                                 Traceback (most recent call last)",
      "Cell \u001b[0;32mIn[2], line 1\u001b[0m\n\u001b[0;32m----> 1\u001b[0m \u001b[43msys\u001b[49m\u001b[38;5;241m.\u001b[39mpath\u001b[38;5;241m.\u001b[39mappend(\u001b[38;5;124m'\u001b[39m\u001b[38;5;124m/Users/riekelabbackup/Desktop/Vyom/RetinAnalysis/src/retinanalysis/\u001b[39m\u001b[38;5;124m'\u001b[39m)\n\u001b[1;32m      2\u001b[0m \u001b[38;5;28;01mimport\u001b[39;00m \u001b[38;5;21;01mei_utils\u001b[39;00m \u001b[38;5;28;01mas\u001b[39;00m \u001b[38;5;21;01meiu\u001b[39;00m\n\u001b[1;32m      3\u001b[0m \u001b[38;5;28;01mimport\u001b[39;00m \u001b[38;5;21;01mimportlib\u001b[39;00m\n",
      "\u001b[0;31mNameError\u001b[0m: name 'sys' is not defined"
     ]
    }
   ],
   "source": [
    "sys.path.append('/Users/riekelabbackup/Desktop/Vyom/RetinAnalysis/src/retinanalysis/')\n",
    "import ei_utils as eiu\n",
    "import importlib\n",
    "importlib.reload(eiu)"
   ]
  },
  {
   "cell_type": "code",
   "execution_count": 3,
   "id": "2a51fcfb",
   "metadata": {},
   "outputs": [
    {
     "ename": "NameError",
     "evalue": "name 'r1' is not defined",
     "output_type": "error",
     "traceback": [
      "\u001b[0;31m---------------------------------------------------------------------------\u001b[0m",
      "\u001b[0;31mNameError\u001b[0m                                 Traceback (most recent call last)",
      "Cell \u001b[0;32mIn[3], line 2\u001b[0m\n\u001b[1;32m      1\u001b[0m cell_idx \u001b[38;5;241m=\u001b[39m \u001b[38;5;241m1\u001b[39m\n\u001b[0;32m----> 2\u001b[0m cell_id \u001b[38;5;241m=\u001b[39m \u001b[43mr1\u001b[49m\u001b[38;5;241m.\u001b[39mdf_spike_times\u001b[38;5;241m.\u001b[39mindex[cell_idx]\n\u001b[1;32m      3\u001b[0m eiu\u001b[38;5;241m.\u001b[39mplot_ei_map(cell_id, r1\u001b[38;5;241m.\u001b[39mvcd)\n",
      "\u001b[0;31mNameError\u001b[0m: name 'r1' is not defined"
     ]
    }
   ],
   "source": [
    "cell_idx = 1\n",
    "cell_id = r1.df_spike_times.index[cell_idx]\n",
    "eiu.plot_ei_map(cell_id, r1.vcd)"
   ]
  }
 ],
 "metadata": {
  "kernelspec": {
   "display_name": "mea",
   "language": "python",
   "name": "python3"
  },
  "language_info": {
   "codemirror_mode": {
    "name": "ipython",
    "version": 3
   },
   "file_extension": ".py",
   "mimetype": "text/x-python",
   "name": "python",
   "nbconvert_exporter": "python",
   "pygments_lexer": "ipython3",
   "version": "3.8.20"
  }
 },
 "nbformat": 4,
 "nbformat_minor": 5
}
