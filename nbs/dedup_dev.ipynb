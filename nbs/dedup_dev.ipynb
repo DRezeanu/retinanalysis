{
 "cells": [
  {
   "cell_type": "code",
   "execution_count": null,
   "id": "040d6a50",
   "metadata": {},
   "outputs": [],
   "source": [
    "import importlib\n",
    "import retinanalysis as ra\n",
    "# importlib.reload(ra)\n",
    "# importlib.reload(ra.analysis_chunk)\n",
    "import pandas as pd\n",
    "import numpy as np\n",
    "ra.settings.mea_config\n",
    "import matplotlib.pyplot as plt\n",
    "from matplotlib.patches import Ellipse\n",
    "\n",
    "# Run below if needing to update the database\n",
    "# ra.database_pop.reload_celltypefiles()\n",
    "# ra.database_utils.populate_database()"
   ]
  },
  {
   "cell_type": "code",
   "execution_count": null,
   "id": "6c1dcd8b",
   "metadata": {},
   "outputs": [],
   "source": [
    "import retinanalysis.classes.dedup as dd\n",
    "importlib.reload(dd)"
   ]
  },
  {
   "cell_type": "code",
   "execution_count": null,
   "id": "a6c8aeff",
   "metadata": {},
   "outputs": [],
   "source": [
    "df = ra.get_datasets_from_protocol_names('matfiles')\n",
    "df"
   ]
  },
  {
   "cell_type": "code",
   "execution_count": null,
   "id": "cbbe7649",
   "metadata": {},
   "outputs": [],
   "source": [
    "s1 = ra.MEAStimBlock(df.at[0, 'exp_name'], df.at[0, 'datafile_name'])\n",
    "ac1 = ra.AnalysisChunk(df.at[0, 'exp_name'], s1.nearest_noise_chunk)"
   ]
  },
  {
   "cell_type": "code",
   "execution_count": null,
   "id": "e6b7ad3f",
   "metadata": {},
   "outputs": [],
   "source": [
    "cell_idx = 10\n",
    "cell_id = ac1.cell_ids[cell_idx]\n",
    "display(ac1.d_spatial_maps[cell_id].shape)\n",
    "plt.imshow(ac1.d_spatial_maps[cell_id][:,:,0])"
   ]
  },
  {
   "cell_type": "markdown",
   "id": "1b50f20b",
   "metadata": {},
   "source": [
    "Correlation matrix computation"
   ]
  },
  {
   "cell_type": "code",
   "execution_count": null,
   "id": "ff8f8835",
   "metadata": {},
   "outputs": [],
   "source": [
    "sm_flat = [sm.flatten() for sm in ac1.d_spatial_maps.values()]\n",
    "sm_flat = np.array(sm_flat)\n",
    "\n",
    "ei_flat = [ac1.vcd.get_ei_for_cell(id).ei.flatten() for id in ac1.cell_ids]\n",
    "ei_flat = np.array(ei_flat)\n",
    "\n",
    "sm_corr = np.corrcoef(sm_flat)\n",
    "ei_corr = np.corrcoef(ei_flat)\n",
    "\n",
    "np.nan_to_num(sm_corr, copy=False, nan = 0, posinf = 0, neginf = 0)\n",
    "np.nan_to_num(ei_corr, copy=False, nan = 0, posinf = 0, neginf = 0);"
   ]
  },
  {
   "cell_type": "code",
   "execution_count": null,
   "id": "317281a8",
   "metadata": {},
   "outputs": [],
   "source": [
    "f, axs = plt.subplots(1, 2, figsize=(12, 6))\n",
    "im = axs[0].imshow(sm_corr, cmap='viridis', vmin=-1, vmax=1)\n",
    "axs[0].set_title('Spatial Map Correlation')\n",
    "plt.colorbar(im, ax=axs[0])\n",
    "im = axs[1].imshow(ei_corr, cmap='viridis', vmin=-1, vmax=1)\n",
    "axs[1].set_title('EI Correlation')\n",
    "plt.colorbar(im, ax=axs[1])"
   ]
  },
  {
   "cell_type": "code",
   "execution_count": null,
   "id": "b708433c",
   "metadata": {},
   "outputs": [],
   "source": [
    "#start with a noise file\n",
    "\n",
    "df_1 = ra.get_datasets_from_protocol_names('.SpatialNoise')\n",
    "df_1[df_1['exp_name'] == '20250514C']"
   ]
  },
  {
   "cell_type": "code",
   "execution_count": null,
   "id": "7e638fe6",
   "metadata": {},
   "outputs": [],
   "source": [
    "import retinanalysis.classes.dedup as dd\n"
   ]
  },
  {
   "cell_type": "code",
   "execution_count": null,
   "id": "70c984a4",
   "metadata": {},
   "outputs": [],
   "source": [
    "sb = ra.MEAStimBlock(df_1.at[177, 'exp_name'], df_1.at[177, 'datafile_name'])\n",
    "ac = ra.AnalysisChunk(df_1.at[177, 'exp_name'], sb.nearest_noise_chunk)"
   ]
  },
  {
   "cell_type": "code",
   "execution_count": null,
   "id": "b49f9fe1",
   "metadata": {},
   "outputs": [],
   "source": [
    "importlib.reload(dd)\n",
    "dd.compare_ei_methods(ac);"
   ]
  },
  {
   "cell_type": "code",
   "execution_count": null,
   "id": "91e869ab",
   "metadata": {},
   "outputs": [],
   "source": [
    "dup = dd.DedupBlock(exp_name=ac.exp_name, chunk_name=ac.chunk_name, ss_version='kilosort2.5', is_noise=True, ei_method='space')"
   ]
  },
  {
   "cell_type": "code",
   "execution_count": null,
   "id": "c963fe48",
   "metadata": {},
   "outputs": [],
   "source": [
    "#confirmation that padding worked as expected\n",
    "\n",
    "test_ids = ac.cell_ids[::30]\n",
    "fig, ax = plt.subplots(int(np.ceil((len(test_ids)/4))), np.min([4, (len(test_ids)-1%4)+1]), figsize=(20, 20), constrained_layout=True)\n",
    "ax= ax.flatten()\n",
    "for idx, cell in enumerate(test_ids):\n",
    "    ax[idx].imshow(ac.d_spatial_maps[cell][:,:,0], cmap='gray')\n",
    "    subset = ac.df_cell_params[ac.df_cell_params['cell_id'] == cell]\n",
    "    rf_params = [subset['center_x'].values[0],\n",
    "                    subset['center_y'].values[0],\n",
    "                    subset['std_x'].values[0],\n",
    "                    subset['std_y'].values[0],\n",
    "                    subset['rot'].values[0]]\n",
    "    ellipse = Ellipse(xy=(rf_params[0], rf_params[1]),\n",
    "                      width=rf_params[2]*2, height=rf_params[3]*2,\n",
    "                      angle=np.rad2deg(rf_params[4]), \n",
    "                      edgecolor='red', facecolor='none', lw=2)\n",
    "    ax[idx].add_patch(ellipse)\n",
    "    ax[idx].set_title(f'Cell ID: {cell}')\n",
    "\n"
   ]
  },
  {
   "cell_type": "code",
   "execution_count": null,
   "id": "b5a0379d",
   "metadata": {},
   "outputs": [],
   "source": [
    "sm_flat = [sm.flatten() for sm in ac.d_spatial_maps.values()]\n",
    "sm_flat = np.array(sm_flat)\n",
    "\n",
    "ei_flat = [ac.vcd.get_ei_for_cell(id).ei.flatten() for id in ac.cell_ids]\n",
    "ei_flat = np.array(ei_flat)\n",
    "\n",
    "sm_corr = np.corrcoef(sm_flat)\n",
    "ei_corr = np.corrcoef(ei_flat)\n",
    "\n",
    "np.nan_to_num(sm_corr, copy=False, nan = 0, posinf = 0, neginf = 0)\n",
    "np.nan_to_num(ei_corr, copy=False, nan = 0, posinf = 0, neginf = 0);"
   ]
  },
  {
   "cell_type": "code",
   "execution_count": null,
   "id": "ae2b9820",
   "metadata": {},
   "outputs": [],
   "source": [
    "ei_corr = ra.ei_corr(ac, ac, method='full')\n",
    "plt.imshow(ei_corr, cmap='viridis', vmin=-1, vmax=1)"
   ]
  },
  {
   "cell_type": "code",
   "execution_count": null,
   "id": "1e093f49",
   "metadata": {},
   "outputs": [],
   "source": [
    "cluster_to_index = dict(zip(ac.cell_ids, range(len(ac.cell_ids))))"
   ]
  },
  {
   "cell_type": "code",
   "execution_count": null,
   "id": "92f4a6f1",
   "metadata": {},
   "outputs": [],
   "source": [
    "f, axs = plt.subplots(1, 2, figsize=(12, 6))\n",
    "im = axs[0].imshow(sm_corr, cmap='viridis', vmin=-1, vmax=1)\n",
    "axs[0].set_title('Spatial Map Correlation')\n",
    "plt.colorbar(im, ax=axs[0])\n",
    "im = axs[1].imshow(ei_corr, cmap='viridis', vmin=-1, vmax=1)\n",
    "axs[1].set_title('EI Correlation')\n",
    "plt.colorbar(im, ax=axs[1])"
   ]
  },
  {
   "cell_type": "code",
   "execution_count": null,
   "id": "b99c573c",
   "metadata": {},
   "outputs": [],
   "source": [
    "import copy\n",
    "threshold_sm = 0.80\n",
    "threshold_ei = 0.80\n",
    "\n",
    "# Identify cells with high spatial map correlation\n",
    "#remove self-correlations (diagonal of the correlation matrix)\n",
    "sm_upper_tri = copy.deepcopy(sm_corr)\n",
    "sm_upper_tri = np.triu(sm_upper_tri, k=1)  # Keep only upper triangle of the correlation matrix\n",
    "high_sm_idx = np.where(sm_upper_tri > threshold_sm)\n",
    "high_sm_corr_cells = set([(ac.cell_ids[high_sm_idx[0][i]], ac.cell_ids[high_sm_idx[1][i]]) for i in range(len(high_sm_idx[0]))]) # Get the indices of cells with high spatial map correlation\n",
    "high_sm_idx_set = set([(high_sm_idx[0][i], high_sm_idx[1][i]) for i in range(len(high_sm_idx[0]))]) # Combine indices of both cells in the pair\n",
    "\n",
    "ei_upper_tri = copy.deepcopy(ei_corr)\n",
    "ei_upper_tri = np.triu(ei_upper_tri, k=1)  # Keep only upper triangle of the correlation matrix\n",
    "high_ei_idx = np.where(ei_upper_tri > threshold_ei)\n",
    "high_ei_corr_cells = set([(ac.cell_ids[high_ei_idx[0][i]], ac.cell_ids[high_ei_idx[1][i]]) for i in range(len(high_ei_idx[0]))]) # Get the indices of cells with high EI correlation\n",
    "high_ei_idx_set = set([(high_ei_idx[0][i], high_ei_idx[1][i]) for i in range(len(high_ei_idx[0]))]) # Combine indices of both cells in the pair\n",
    "\n",
    "# all_problem_cells = np.unique(np.array([ac.cell_ids[high_ei_idx[0][:]], ac.cell_ids[high_ei_idx[1][:]], ac.cell_ids[high_sm_idx[0][:]], ac.cell_ids[high_sm_idx[1][:]]]).flatten())\n",
    "\n",
    "fig, ax = plt.subplots(1,2, figsize=(12, 6), constrained_layout=True)\n",
    "ax[0].hist(sm_upper_tri.flatten(), bins=100, alpha=0.7)\n",
    "ax[0].semilogy()\n",
    "ax[0].set_title('Spatial Map Correlation Histogram')\n",
    "ax[0].set_xlabel('Correlation Coefficient')\n",
    "ax[0].set_ylabel('Count')\n",
    "ax[1].hist(ei_upper_tri.flatten(), bins=100, alpha=0.7)\n",
    "ax[1].semilogy()\n",
    "ax[1].set_title('EI Correlation Histogram')\n",
    "ax[1].set_xlabel('Correlation Coefficient')\n",
    "ax[1].set_ylabel('Count')\n",
    "ax[0].axvline(threshold_sm, color='red', linestyle='--', label='Threshold')\n",
    "ax[1].axvline(threshold_ei, color='red', linestyle='--', label='Threshold')\n",
    "ax[0].legend()\n",
    "ax[1].legend()\n",
    "print(f'number of high ei correlation pairs: {len(high_ei_corr_cells)}')\n",
    "print(f'number of high spatial map correlation pairs: {len(high_sm_corr_cells)}')\n",
    "print(f'intersection: {len(high_ei_corr_cells.intersection(high_sm_corr_cells))}')\n"
   ]
  },
  {
   "cell_type": "code",
   "execution_count": null,
   "id": "43de2070",
   "metadata": {},
   "outputs": [],
   "source": [
    "#index ac.cell_ids by target clusters\n",
    "all_problem_cells = {item for tuple in high_sm_corr_cells.union(high_ei_corr_cells) for item in tuple}\n",
    "all_sm_cells = {item for tuple in high_sm_corr_cells for item in tuple}\n",
    "all_ei_cells = {item for tuple in high_ei_corr_cells for item in tuple}"
   ]
  },
  {
   "cell_type": "code",
   "execution_count": null,
   "id": "ef09f847",
   "metadata": {},
   "outputs": [],
   "source": [
    "from matplotlib.lines import Line2D\n",
    "rf_params = ac.rf_params\n",
    "fig = plt.figure(figsize=(15, 20), layout='compressed')\n",
    "fig.suptitle('Overview of RFs and Correlations', fontsize=16)\n",
    "subfigs = fig.subfigures(3, 1) \n",
    "ax00 = subfigs[0].subplots(1, 2)\n",
    "for cell in ac.cell_ids:\n",
    "    ell1 = Ellipse(xy=(rf_params[cell]['center_x'], rf_params[cell]['center_y']),\n",
    "                width=rf_params[cell]['std_x']*2, height=rf_params[cell]['std_y']*2,\n",
    "                angle=np.rad2deg(rf_params[cell]['rot']), \n",
    "                edgecolor='None', facecolor='None', lw=2, alpha=0.8)\n",
    "    if cell in all_ei_cells and cell in all_sm_cells:\n",
    "        ell1.set_edgecolor('red')\n",
    "        color = 'red'\n",
    "        ax00[1].add_patch(ell1)\n",
    "        ax00[1].annotate(f'{cell}', xy=(rf_params[cell]['center_x'], rf_params[cell]['center_y']), fontsize=12)\n",
    "    elif cell in all_ei_cells:\n",
    "        ell1.set_edgecolor('orange')\n",
    "        color = 'orange'\n",
    "        ax00[1].add_patch(ell1)\n",
    "        ax00[1].annotate(f'{cell}', xy=(rf_params[cell]['center_x'], rf_params[cell]['center_y']), fontsize=12)\n",
    "    elif cell in all_sm_cells:\n",
    "        ell1.set_edgecolor('magenta')\n",
    "        color = 'magenta'\n",
    "        ax00[1].add_patch(ell1)\n",
    "        ax00[1].annotate(f'{cell}', xy=(rf_params[cell]['center_x'], rf_params[cell]['center_y']), fontsize=12)\n",
    "    else:\n",
    "        color = 'black'\n",
    "    ell = Ellipse(xy=(rf_params[cell]['center_x'], rf_params[cell]['center_y']),\n",
    "                  width=rf_params[cell]['std_x']*2, height=rf_params[cell]['std_y']*2,\n",
    "                  angle=np.rad2deg(rf_params[cell]['rot']), \n",
    "                  edgecolor=color, facecolor='None', lw=1, alpha=0.8)\n",
    "    ax00[0].add_patch(ell)\n",
    "ax00[0].set_xlim(0, ac.numXChecks)\n",
    "ax00[0].set_ylim(ac.numYChecks, 0) \n",
    "ax00[1].set_xlim(0, ac.numXChecks)\n",
    "ax00[1].set_ylim(ac.numYChecks, 0)  # Invert y-axis to match spatial map orientation\n",
    "ax00[0].set_title('All Cells')\n",
    "ax00[1].set_title('Cells with High Correlation')\n",
    "custom_lines = [Line2D([0], [0], color='red', lw=1, label='Both'),\n",
    "                    Line2D([0], [0], color='orange', lw=1, label='EI only'),\n",
    "                    Line2D([0], [0], color='magenta', lw=1, label='RF only')]\n",
    "ax00[1].legend(handles=custom_lines, loc='upper right')\n",
    "\n",
    "ax01 = subfigs[1].subplots(1, 2)\n",
    "ax01[0].hist(sm_upper_tri.flatten(), bins=100, alpha=0.7)\n",
    "ax01[0].semilogy()\n",
    "ax01[0].set_title('Spatial Map Correlation Histogram')\n",
    "ax01[0].set_xlabel('Correlation Coefficient')\n",
    "ax01[0].set_ylabel('Count')\n",
    "ax01[1].hist(ei_upper_tri.flatten(), bins=100, alpha=0.7)\n",
    "ax01[1].semilogy()\n",
    "ax01[1].set_title('EI Correlation Histogram')\n",
    "ax01[1].set_xlabel('Correlation Coefficient')\n",
    "ax01[1].set_ylabel('Count')\n",
    "ax01[0].axvline(threshold_sm, color='red', linestyle='--', label='Threshold')\n",
    "ax01[1].axvline(threshold_ei, color='red', linestyle='--', label='Threshold')\n",
    "ax01[0].legend()\n",
    "ax01[1].legend()\n"
   ]
  },
  {
   "cell_type": "code",
   "execution_count": null,
   "id": "e3b0885d",
   "metadata": {},
   "outputs": [],
   "source": [
    "high_ei_corr_cells"
   ]
  },
  {
   "cell_type": "code",
   "execution_count": null,
   "id": "7f759386",
   "metadata": {},
   "outputs": [],
   "source": [
    "high_sm_corr_cells"
   ]
  },
  {
   "cell_type": "code",
   "execution_count": null,
   "id": "e9225162",
   "metadata": {},
   "outputs": [],
   "source": [
    "cell_a = 3\n",
    "cell_b = 5\n",
    "\n",
    "ei_1 = ac.vcd.get_ei_for_cell(cell_a).ei\n",
    "ei_2 = ac.vcd.get_ei_for_cell(cell_b).ei\n",
    "sorted_electrodes = ra.sort_electrode_map(ac.vcd.get_electrode_map())\n",
    "e1_1 = ra.reshape_ei(ei_1, sorted_electrodes)\n",
    "e1_2 = ra.reshape_ei(ei_2, sorted_electrodes)\n",
    "e1_1 = np.log10(np.max(np.abs(e1_1), axis=2)+1e-6)\n",
    "e1_2 = np.log10(np.max(np.abs(e1_2), axis=2)+1e-6)\n",
    "\n",
    "fig, ax = plt.subplots(7, 2, figsize=(12, 20))\n",
    "im1=ax[0,0].imshow(ac.d_spatial_maps[cell_a][:,:,0], cmap='gray')\n",
    "im2=ax[0,1].imshow(ac.d_spatial_maps[cell_b][:,:,0], cmap='gray')\n",
    "ax[0,0].set_title(f'Cell {cell_a} Spatial Map')\n",
    "ax[0,1].set_title(f'Cell {cell_b} Spatial Map')\n",
    "# im3=ax[1,0].imshow(e1_1, cmap='hot')\n",
    "# im4=ax[1,1].imshow(e1_2, cmap='hot')\n",
    "# ax[1,0].set_title(f'Cell {cell_a} EI')\n",
    "# ax[1,1].set_title(f'Cell {cell_b} EI')\n",
    "ax1 = ra.ei_utils.plot_ei_map(cell_a, ac.vcd, axs=ax[1:,0])\n",
    "ax2 = ra.ei_utils.plot_ei_map(cell_b, ac.vcd, axs=ax[1:,1])\n",
    "# plt.colorbar(im1, ax=ax[0,0])\n",
    "# plt.colorbar(im2, ax=ax[0,1])\n",
    "# plt.colorbar(im3, ax=ax[1,0])\n",
    "# plt.colorbar(im4, ax=ax[1,1])\n",
    "fig.suptitle(f'EI Corr: {ei_corr[cluster_to_index[cell_a], cluster_to_index[cell_b]]:.2f}, SM Corr: {sm_corr[cluster_to_index[cell_a], cluster_to_index[cell_b]]:.2f}', fontsize=16)\n",
    "plt.tight_layout()"
   ]
  },
  {
   "cell_type": "code",
   "execution_count": null,
   "id": "4182604c",
   "metadata": {},
   "outputs": [],
   "source": [
    "ra.ei_utils.plot_ei_map(cell_a, ac.vcd)"
   ]
  },
  {
   "cell_type": "code",
   "execution_count": null,
   "id": "83feda6f",
   "metadata": {},
   "outputs": [],
   "source": [
    "ac"
   ]
  },
  {
   "cell_type": "code",
   "execution_count": null,
   "id": "edde57c0",
   "metadata": {},
   "outputs": [],
   "source": [
    "amps = np.load('/Volumes/data/data/sorted/20250514C/chunk1/kilosort2.5/amplitudes.npy')\n",
    "templates = np.load('/Volumes/data/data/sorted/20250514C/chunk1/kilosort2.5/spike_templates.npy')"
   ]
  },
  {
   "cell_type": "code",
   "execution_count": null,
   "id": "f8e048d6",
   "metadata": {},
   "outputs": [],
   "source": [
    "spike_times = np.load('/Volumes/data/data/sorted/20250514C/chunk1/kilosort2.5/spike_times.npy')\n",
    "print(spike_times.shape)"
   ]
  },
  {
   "cell_type": "code",
   "execution_count": null,
   "id": "8b16b34c",
   "metadata": {},
   "outputs": [],
   "source": [
    "pc_templates = np.load('/Volumes/data/data/sorted/20250429C/chunk1/kilosort2.5/pc_features.npy',mmap_mode='r')"
   ]
  },
  {
   "cell_type": "code",
   "execution_count": null,
   "id": "cb829c06",
   "metadata": {},
   "outputs": [],
   "source": [
    "pc_feature_inds = np.load('/Volumes/data/data/sorted/20250429C/chunk1/kilosort2.5/pc_feature_ind.npy')\n",
    "spike_templ = np.load('/Volumes/data/data/sorted/20250429C/chunk1/kilosort2.5/spike_templates.npy')\n",
    "spike_times = np.load('/Volumes/data/data/sorted/20250429C/chunk1/kilosort2.5/spike_times.npy')"
   ]
  },
  {
   "cell_type": "code",
   "execution_count": null,
   "id": "2f17c18b",
   "metadata": {},
   "outputs": [],
   "source": [
    "cluster_id_a = 199-1\n",
    "cluster_id_b = 212-1\n",
    "\n",
    "spike_indx_a = np.where(spike_templ == cluster_id_a)[0]\n",
    "spike_indx_b = np.where(spike_templ == cluster_id_b)[0]\n",
    "\n",
    "feat_chan_ids_a = pc_feature_inds[cluster_id_a, :].astype(int)\n",
    "feat_chan_ids_b = pc_feature_inds[cluster_id_b, :].astype(int)\n"
   ]
  },
  {
   "cell_type": "code",
   "execution_count": null,
   "id": "aea1c703",
   "metadata": {},
   "outputs": [],
   "source": [
    "chan_0_a = feat_chan_ids_a[0]\n",
    "chan_0_b = feat_chan_ids_b[0]\n",
    "\n",
    "chan_1_a = feat_chan_ids_a[1]\n",
    "chan_1_b = feat_chan_ids_b[1]\n",
    "\n",
    "times_spikes_a = spike_times[spike_indx_a]\n",
    "times_spikes_b = spike_times[spike_indx_b]\n",
    "\n",
    "num_chan_pc_combos = 2*2"
   ]
  },
  {
   "cell_type": "code",
   "execution_count": null,
   "id": "14993397",
   "metadata": {},
   "outputs": [],
   "source": [
    "fig, axs = plt.subplots(4, 4, figsize=(12,12))\n",
    "for i in range(num_chan_pc_combos):\n",
    "    for j in range(num_chan_pc_combos):\n",
    "        ax = axs[i, j]\n",
    "        if i == j:\n",
    "            x_a = times_spikes_a / 20000\n",
    "            y_a = pc_templates[spike_indx_a, i%2, i//2] \n",
    "            ax.set_xlabel(f'Time (s)')\n",
    "            ax.set_ylabel(f'Ch{i//2} PC{i%2}')\n",
    "\n",
    "            x_b = times_spikes_b / 20000\n",
    "            y_b = pc_templates[spike_indx_b, j%2, j//2]\n",
    "\n",
    "\n",
    "        else:\n",
    "            x_a = pc_templates[spike_indx_a, i%2, i//2]\n",
    "            y_a = pc_templates[spike_indx_a, j%2, j//2]\n",
    "\n",
    "            x_b = pc_templates[spike_indx_b, i%2, i//2]\n",
    "            y_b = pc_templates[spike_indx_b, j%2, j//2]\n",
    "\n",
    "            ax.set_xlabel(f'Ch{i//2} PC{i%2}')\n",
    "            ax.set_ylabel(f'Ch{j//2} PC{j%2}')\n",
    "            x_max_a = np.max(np.abs(x_a))\n",
    "\n",
    "            x_max_b = np.max(np.abs(x_b))\n",
    "            ax.set_xlim(min(-x_max_a, -x_max_b), max(x_max_a, x_max_b))\n",
    "\n",
    "            ax.axhline(0, color='gray', linewidth=0.5)\n",
    "            ax.axvline(0, color='gray', linewidth=0.5)\n",
    "\n",
    "        y_max_a = np.max(np.abs(y_a))\n",
    "        y_max_b = np.max(np.abs(y_b))\n",
    "\n",
    "        ax.set_ylim(min(-y_max_a, -y_max_b), max(y_max_a, y_max_b))\n",
    "        ax.scatter(x_a, y_a, s=1, alpha=0.5, color='blue', label=f'Cell {cluster_id_a}')\n",
    "        ax.scatter(x_b, y_b, s=1, alpha=0.5, color='green', label=f'Cell {cluster_id_b}')\n",
    "plt.tight_layout()\n"
   ]
  },
  {
   "cell_type": "code",
   "execution_count": null,
   "id": "a3955ddc",
   "metadata": {},
   "outputs": [],
   "source": [
    "pc_templates[spike_indx_a, i%2, i//2] "
   ]
  },
  {
   "cell_type": "code",
   "execution_count": null,
   "id": "cd003ed7",
   "metadata": {},
   "outputs": [],
   "source": [
    "cluster_id_a"
   ]
  },
  {
   "cell_type": "code",
   "execution_count": null,
   "id": "b26d026d",
   "metadata": {},
   "outputs": [],
   "source": [
    "templates_vision = templates + 1\n",
    "amplitudes = np.vstack((np.squeeze(amps), np.squeeze(templates_vision)))\n"
   ]
  },
  {
   "cell_type": "code",
   "execution_count": null,
   "id": "9316f751",
   "metadata": {},
   "outputs": [],
   "source": [
    "a = amplitudes[:,amplitudes[1,:]==cell_a]\n",
    "print(a.shape)"
   ]
  },
  {
   "cell_type": "code",
   "execution_count": null,
   "id": "67ddccb0",
   "metadata": {},
   "outputs": [],
   "source": [
    "cell_a = 3\n",
    "cell_b = 5\n",
    "fig, ax = plt.subplots(1, 1, figsize=(12, 6), constrained_layout=True)\n",
    "amps1 = amplitudes[0,amplitudes[1,:]==cell_a]\n",
    "times1 = spike_times[amplitudes[1,:]==cell_a]\n",
    "amps2 = amplitudes[0,amplitudes[1,:]==cell_b]\n",
    "times2 = spike_times[amplitudes[1,:]==cell_b]\n",
    "ax.plot(times1,amps1, 'o', label=f'Cell {cell_a}', alpha=0.5)\n",
    "ax.plot(times2,amps2, 'o', label=f'Cell {cell_b}', alpha=0.5)\n",
    "ax_histy = ax.inset_axes([1.05, 0, 0.25, 1], sharey=ax)\n",
    "ax_histy.tick_params(axis='y',labelleft=False)\n",
    "\n",
    "min_val = min(np.min(amps1), np.min(amps2))\n",
    "max_val = max(np.max(amps1), np.max(amps2))\n",
    "\n",
    "num_bins = 50\n",
    "bin_edges = np.linspace(min_val, max_val, num_bins + 1)\n",
    "hist1, _ = np.histogram(amps1, bins=bin_edges)\n",
    "hist2, _ = np.histogram(amps2, bins=bin_edges)\n",
    "\n",
    "ax_histy.stairs(hist1, bin_edges, fill=True, alpha=0.5, color='blue', orientation='horizontal', label=f'Cell {cell_a}')\n",
    "ax_histy.stairs(hist2, bin_edges, fill=True, alpha=0.5, color='orange', orientation='horizontal', label=f'Cell {cell_b}')\n",
    "\n",
    "intersection = np.sum(np.minimum(hist1, hist2))\n",
    "total_sum_hist1 = np.sum(hist1)\n",
    "overlap_fraction = intersection / total_sum_hist1 if total_sum_hist1 > 0 else 0\n",
    "\n",
    "ax.set_xlabel('Spike Index')\n",
    "ax.set_ylabel('Amplitude')\n",
    "ax.set_title(f'Amplitude Comparison for Cells {cell_a} and {cell_b}, Overlap Percentage: {overlap_fraction*100:.2%}%')\n",
    "ax.legend()"
   ]
  },
  {
   "cell_type": "code",
   "execution_count": null,
   "id": "b8c3b521",
   "metadata": {},
   "outputs": [],
   "source": [
    "index = np.where(amplitudes[1,:] == cell_a)[0]\n",
    "templates[index]"
   ]
  },
  {
   "cell_type": "code",
   "execution_count": null,
   "id": "1cebcddc",
   "metadata": {},
   "outputs": [],
   "source": [
    "import retinanalysis.classes.dedup as dd\n",
    "importlib.reload(dd)\n",
    "\n",
    "# ei_autocorr, high_ei_pairs = dd.get_ei_autocorrelation(ac)\n",
    "# print(ei_autocorr.all() == ei_corr.all())\n",
    "# print(high_ei_pairs.difference(high_ei_corr_cells))"
   ]
  },
  {
   "cell_type": "code",
   "execution_count": null,
   "id": "4c152762",
   "metadata": {},
   "outputs": [],
   "source": [
    "pcs, ei_pcs, sm_pcs = dd.isolate_problem_cells(block=ac)\n",
    "# print(pcs.difference(all_problem_cells))\n",
    "# print(ei_pcs.difference(all_problem_cells))\n",
    "# print(sm_pcs.difference(all_problem_cells))"
   ]
  },
  {
   "cell_type": "code",
   "execution_count": null,
   "id": "e28c40e0",
   "metadata": {},
   "outputs": [],
   "source": [
    "fig, ax = dd.plotRFs_dedup(ac)"
   ]
  },
  {
   "cell_type": "code",
   "execution_count": null,
   "id": "c98d98ad",
   "metadata": {},
   "outputs": [],
   "source": [
    "fig, ax = dd.plot_histograms(ac)"
   ]
  },
  {
   "cell_type": "code",
   "execution_count": null,
   "id": "48011510",
   "metadata": {},
   "outputs": [],
   "source": [
    "#now using ei and sm pairs, generate a set of groups that are connected by either ei or sm correlation\n",
    "ei_corr, high_ei_pairs = dd.get_ei_autocorrelation(ac)\n",
    "sm_corr, high_sm_pairs = dd.get_sm_autocorrelation(ac)"
   ]
  },
  {
   "cell_type": "code",
   "execution_count": null,
   "id": "527a61f3",
   "metadata": {},
   "outputs": [],
   "source": [
    "pairs_dict = {}\n",
    "for a, b in high_sm_pairs:\n",
    "    if a not in pairs_dict:\n",
    "        pairs_dict[a] = set()\n",
    "    if b not in pairs_dict:\n",
    "        pairs_dict[b] = set()\n",
    "    pairs_dict[a].add(b)\n",
    "    pairs_dict[b].add(a)\n",
    "\n",
    "extended = set()\n",
    "for origin in high_sm_pairs:\n",
    "    a, b = origin\n",
    "\n",
    "    paired_w_a = pairs_dict.get(a, set())\n",
    "    paired_w_b = pairs_dict.get(b, set())\n",
    "    all_paired = paired_w_a.union(paired_w_b)\n",
    "    all_paired_tuple = tuple(sorted(all_paired))\n",
    "    extended.add(all_paired_tuple)\n",
    "\n",
    "ext_test = dd.generate_extended_pairings(high_sm_pairs)\n",
    "print(ext_test == extended)\n",
    "\n",
    "\n"
   ]
  },
  {
   "cell_type": "code",
   "execution_count": null,
   "id": "af84e6f0",
   "metadata": {},
   "outputs": [],
   "source": [
    "ext_1 = dd.generate_extended_pairings(high_sm_pairs)\n",
    "ext_2 = dd.generate_extended_pairings(high_ei_pairs)\n",
    "ext_all = ext_1.union(ext_2)"
   ]
  },
  {
   "cell_type": "code",
   "execution_count": null,
   "id": "2e050d01",
   "metadata": {},
   "outputs": [],
   "source": [
    "group = (625, 628, 1405)\n",
    "dd.visualize_groups(group, ac, detailed=True);"
   ]
  },
  {
   "cell_type": "code",
   "execution_count": null,
   "id": "69efc0be",
   "metadata": {},
   "outputs": [],
   "source": [
    "dd.plot_amplitude_histograms(amplitudes, templates, group)"
   ]
  },
  {
   "cell_type": "code",
   "execution_count": null,
   "id": "461a3650",
   "metadata": {},
   "outputs": [],
   "source": [
    "all_pairs = high_sm_pairs.union(high_ei_pairs)\n",
    "# for a, b in all_pairs:\n"
   ]
  },
  {
   "cell_type": "code",
   "execution_count": null,
   "id": "9fa49379",
   "metadata": {},
   "outputs": [],
   "source": [
    "ext_test"
   ]
  },
  {
   "cell_type": "code",
   "execution_count": null,
   "id": "4eef3b7e",
   "metadata": {},
   "outputs": [],
   "source": [
    "#now, we want to set up a df to summarize the results of the deduplication process for each pair\n",
    "#not group, since most metrics are pairwise\n",
    "from itertools import combinations\n",
    "\n",
    "header = ['cell_a', 'cell_b', 'sm_corr', 'ei_corr']\n",
    "stats = []\n",
    "#columns are: cella, cellb, sm_corr(if available), ei_corr, amplitude histogram overlap fraction\n",
    "for tup in ext_all:\n",
    "    group = np.array(tup)\n",
    "    pairs = list(combinations(group, 2))\n",
    "    for a, b in pairs:\n",
    "        cell_a = a\n",
    "        cell_b = b\n",
    "        sm_corr_val = sm_corr[cluster_to_index[cell_a], cluster_to_index[cell_b]]\n",
    "        ei_corr_val = ei_corr[cluster_to_index[cell_a], cluster_to_index[cell_b]]\n",
    "        stats.append([cell_a, cell_b, sm_corr_val, ei_corr_val])\n",
    "\n",
    "df_stats = pd.DataFrame(stats, columns=header)\n",
    "df_stats\n",
    "\n",
    "\n"
   ]
  },
  {
   "cell_type": "code",
   "execution_count": null,
   "id": "35068fad",
   "metadata": {},
   "outputs": [],
   "source": [
    "summary_stats = dd.get_summary_stats(ac, amplitudes)\n",
    "summary_stats"
   ]
  }
 ],
 "metadata": {
  "kernelspec": {
   "display_name": "analysis",
   "language": "python",
   "name": "python3"
  },
  "language_info": {
   "codemirror_mode": {
    "name": "ipython",
    "version": 3
   },
   "file_extension": ".py",
   "mimetype": "text/x-python",
   "name": "python",
   "nbconvert_exporter": "python",
   "pygments_lexer": "ipython3",
   "version": "3.8.20"
  }
 },
 "nbformat": 4,
 "nbformat_minor": 5
}
